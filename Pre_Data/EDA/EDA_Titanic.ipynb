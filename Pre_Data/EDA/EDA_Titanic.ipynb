{
 "cells": [
  {
   "cell_type": "markdown",
   "metadata": {},
   "source": [
    "[Titanic - Machine Learning from Disaster](https://www.kaggle.com/c/titanic/code?competitionId=3136&sortBy=voteCount)"
   ]
  },
  {
   "cell_type": "code",
   "execution_count": null,
   "metadata": {},
   "outputs": [],
   "source": [
    "from pandas_profiling import ProfileReport\n",
    "import pandas as pd\n",
    "import numpy as np\n",
    "df = pd.DataFrame(np.random.rand(100, 5), columns=[\"a\", \"b\", \"c\", \"d\", \"e\"])\n",
    "\n",
    "#profile = ProfileReport(df, title=\"Pandas Profiling Report\")\n",
    "\n",
    "\n",
    "# Explore deeper\n",
    "profile = ProfileReport(df, title=\"Pandas Profiling Report\", explorative=True)\n",
    "\n",
    "# Large datasets: Minimal mode (disables expensive computations (such as correlations and duplicate row detection))\n",
    "#profile = ProfileReport(large_dataset, minimal=True)\n",
    "\n",
    "# Jupyter Notebook\n",
    "profile.to_notebook_iframe()\n",
    "\n",
    "# Saving Report by HTML \n",
    "#profile.to_file(\"your_report.html\")\n",
    "\n"
   ]
  }
 ],
 "metadata": {
  "interpreter": {
   "hash": "618af10fdd433c84be79e5d9cef7a85d74ad68be7e2e9dd9461a47b527f16862"
  },
  "kernelspec": {
   "display_name": "Python 3.8.8 64-bit ('base': conda)",
   "language": "python",
   "name": "python3"
  },
  "language_info": {
   "codemirror_mode": {
    "name": "ipython",
    "version": 3
   },
   "file_extension": ".py",
   "mimetype": "text/x-python",
   "name": "python",
   "nbconvert_exporter": "python",
   "pygments_lexer": "ipython3",
   "version": "2.7.18"
  },
  "orig_nbformat": 4
 },
 "nbformat": 4,
 "nbformat_minor": 2
}
