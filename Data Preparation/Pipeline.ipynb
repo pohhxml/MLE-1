{
 "cells": [
  {
   "cell_type": "markdown",
   "id": "98013001",
   "metadata": {},
   "source": [
    "# 1. Sklearn Pipeline"
   ]
  },
  {
   "cell_type": "markdown",
   "id": "fc623719",
   "metadata": {},
   "source": [
    "**Pipeline là gì?**\n",
    "\n",
    "Pipeline là một cách để mã hóa và tự động hóa các công đoạn và quy trình làm việc cần thiết để tạo ra một mô hình học máy. Pipeline bao gồm nhiều bước tuần tự thực hiện mọi thứ từ trích xuất dữ liệu (_data extraction_) và tiền xử lý dữ liệu (_preprocessing data_) cho đến huấn luyện và triển khai mô hình.\n",
    "\n",
    "\n",
    "![](https://imgur.com/oFng9yE.png)\n",
    "\n",
    "**Hình 1:** Các bước trong quá trình xây dựng và triển khai mô hình.\n",
    "\n",
    "Đối với các hệ thống sử dụng mô hình ML, thì quy trình pipeline là phần trung tâm của sản phẩm. Nó đóng gói toàn bộ các phương pháp xử lý dữ liệu tốt nhất để tạo ra một mô hình học máy phù hợp nhất cho một bộ dữ liệu cụ thể. Ngoài ra pipeline còn cho phép mô hình thực thi trên quy mô lớn. Một thiết kế pipeline end-to-end sẽ cho phép hệ thống của bạn cập nhật một cách thường xuyên các mô hình học máy một cách nhanh chóng.\n",
    "\n",
    "**Qui trình ML thủ công**\n",
    "\n",
    "Ở thời điểm ban đầu của các mô hình ML hướng tới giải quyết một bài toán cụ thể mà doanh nghiệp đối diện, chẳng hạn bài toán gợi ý câu search hay bài toán phát hiện gian lận khách hàng. Team data science thông thường bắt đầu với một qui trình thủ công mà các bước trong qui trình xây dựng mô hình như: `thu thập dữ liệu, làm sạch dữ liệu, huấn luyện mô hình và đánh giá mô hình` sẽ được viết ngắn gọn trong một notebook. Notebook này được vận hành cục bộ để tạo ra phiên bản mô hình thô sơ chưa thế triển khai ngay. Sau đó chúng được chuyển giao sang cho Team engineer để chuyển hoá thành API và áp dụng vào sản phẩm.\n",
    "\n",
    "![](https://imgur.com/CDkSOm8.png)\n",
    "\n",
    "**Hình 2:** Workflow của mô hình ML trong qui trình thủ công. Phần màu xám `Manual Experement Steps` là những bước trong qui trình thủ công được thực hiện bởi Team data science. Đầu ra của bước này là _trained model_, để triển khai được _trained model_ lên môi trường production dưới dạng API (chính là các _Model serving_ trên sơ đồ) thì _trained model_ cần được giao cho team Engineer.\n",
    "\n",
    "Workflow trong qui trình thủ công thường mang tính đột xuất và bắt đầu bị phá vỡ khi Team data science tăng tốc chu kỳ mô hình. Các quy trình thủ công rất khó lặp lại vì các xử lý không được đóng gói. Do đó những khối mã lệnh được viết trên block code của notebook sẽ không còn phù hợp để tăng tốc chu kỳ của mô hình.\n",
    "\n",
    "**Pipeline tự động**\n",
    "\n",
    "Khi Team data science chuyển sang giai đoạn phát triển với qui mô lớn và cần cập nhật nhiều mô hình thường xuyên trên môi trường production, thì phương pháp tiếp cận theo pipeline đóng vai trò cực kì quan trọng. Trong workflow theo cách tiếp cận tự động hoá pipeline, bạn không phát triển và duy trì mỗi một mô hình là một sản phẩm mà thay vào đó, bạn phát triển một pipeline và pipeline chính là sản phẩm.\n",
    "\n",
    "![](https://imgur.com/vKvZapp.png)\n",
    "\n",
    "**Hình 3:** Workflow của mô hình ML trong pipeline tự động. Phần màu xám `Automated Pipeline` thể hiện các thành phần trong qui trình pipeline tự động.\n",
    "\n",
    "Một qui trình pipeline tự động bao gồm các thành phần được sắp đặt theo một bản thiết kế, trong đó qui định cách chúng được kết hợp với nhau để xây dựng và cập nhật toàn bộ mô hình.\n",
    "\n",
    "Một hệ thống áp dụng pipeline tự động cung cấp khả năng thực thi, lặp lại dễ dàng và nhanh chóng. Nó cũng cho phép bạn xác định các đầu vào và đầu ra cần thiết được sử dụng trong mô hình. Những ưu điểm của pipeline đó là:\n",
    "\n",
    "* Đóng gói theo qui trình: Qui trình xây dựng mô hình của một hệ thống được đóng gói lại trong một pipeline và có khả năng tái sử dụng khi cần thiết.\n",
    "\n",
    "* Khả năng tự động hoá: Mọi bước trong qui trình của mô hình được tự động hoá mà không cần phải can thiệp vào code.\n",
    "\n",
    "* Triển khai nhanh chu kỳ vòng lặp: Một chu kì từ thu thập dữ liệu tới triển khai mô hình có thể được triển khai ngay khi cập nhật phiên bản code mới của pipeline.\n",
    "\n",
    "* Tự động hoá quá trình kiểm thử và đo lường hiệu suất mô hình: Mô hình sau khi được huấn luyện sẽ được triển khai ngay và kết quả đánh giá hiệu suất mô hình được thể hiện ở `Monitoring`. Team data science có thể dễ dàng thực hiện đối chiếu, so sánh, đánh giá hiệu năng mô hình.\n",
    "\n",
    "* Kiểm soát version của pipeline: Những phiên bản mới của pipeline sẽ được tagging và caching trong một Code Repository.\n",
    "\n",
    "Nhờ những hiệu quả và tính ưu việt mà khi huấn luyện và triển khai những mô hình ML trên production chúng ta hầu hết sẽ tìm cách thiết kế các pipeline.\n",
    "\n",
    "\n",
    "**Kiến thức được học ở bài này?**\n",
    "\n",
    "Ở chương này bạn đọc sẽ học được những kiến thức mới về pipeline được liệt kê bên dưới:\n",
    "\n",
    "* Tiền xử lý dữ liệu cho biến phân loại và liên tục.\n",
    "* Thiết kế một pipeline hoàn chỉnh bao gồm các bước tiền xử lý dữ liệu và dự báo.\n",
    "* Thực hiện cross validation các mô hình khác nhau trên một pipeline.\n",
    "* Cách lựa chọn metric phù hợp cho mô hình đối với bài toán phân loại và dự báo.\n",
    "* Kỹ thuật gridsearch trong tìm kiếm siêu tham số (_hyperparameter_) cho mô hình."
   ]
  },
  {
   "cell_type": "markdown",
   "id": "559bcdb9",
   "metadata": {},
   "source": [
    "# 2. Design Pipeline"
   ]
  },
  {
   "cell_type": "markdown",
   "id": "ffe02680",
   "metadata": {
    "id": "EYCd4JN3lKcu"
   },
   "source": [
    "## 2.1. Data German Credit"
   ]
  },
  {
   "cell_type": "markdown",
   "id": "57b43681",
   "metadata": {
    "id": "sJmSo7cYd4ii"
   },
   "source": [
    "German credit là bộ dữ liệu về lịch sử tín dụng của 1000 tài khoản khác nhau. Mục tiêu của chúng ta là dựa vào lịch sử tín dụng này để dự đoán khả năng khách hàng sẽ trả nợ hay không. Bộ dữ liệu bao gồm 20 biến đầu vào trong đó có 7 biến liên tục (numeric) và 13 biến phân loại (category).\n",
    "\n",
    "Biến mục tiêu (cột response ở vị trí cuối cùng) có giá trị 1 cho khách hàng Good và 2 cho khách hàng Bad. Khách hàng Good là khác hàng vỡ nợ và chúng ta còn gọi là Negative Class trong khi khách hàng Bad là trường hợp ngược lại và là Positive class.\n",
    "\n",
    "Đây là bộ dữ liệu mất cân bằng khi nhãn Good (Negative) chiếm 70% và nhãn Bad chỉ 30% (Positive). Tiếp theo ta sẽ đọc vào khảo sát bộ dữ liệu này."
   ]
  },
  {
   "cell_type": "markdown",
   "id": "23ad55c6",
   "metadata": {},
   "source": [
    "### Overview"
   ]
  },
  {
   "cell_type": "code",
   "execution_count": 116,
   "id": "9f37e064",
   "metadata": {},
   "outputs": [],
   "source": [
    "# Import the libraries\n",
    "import pandas as pd\n",
    "import numpy as np\n",
    "import seaborn as sns\n",
    "import matplotlib.pyplot as plt\n",
    "from sklearn.compose import ColumnTransformer\n",
    "from sklearn.naive_bayes import GaussianNB\n",
    "from sklearn.linear_model import LogisticRegression\n",
    "from sklearn.neighbors import KNeighborsClassifier\n",
    "from sklearn.svm import LinearSVC\n",
    "from sklearn.neural_network import MLPClassifier\n",
    "from sklearn.ensemble import GradientBoostingClassifier\n",
    "from sklearn.ensemble import RandomForestClassifier\n",
    "from sklearn.impute import KNNImputer, SimpleImputer\n",
    "from sklearn.metrics import accuracy_score\n",
    "from sklearn.model_selection import train_test_split\n",
    "from sklearn.pipeline import Pipeline\n",
    "from sklearn.model_selection import cross_val_score\n",
    "from sklearn.metrics import fbeta_score\n",
    "from sklearn.metrics import make_scorer\n",
    "from sklearn.model_selection import cross_val_score\n",
    "from sklearn.model_selection import RepeatedStratifiedKFold\n",
    "from sklearn.preprocessing import OneHotEncoder, MinMaxScaler"
   ]
  },
  {
   "cell_type": "code",
   "execution_count": 26,
   "id": "d5cc2377",
   "metadata": {
    "colab": {
     "base_uri": "https://localhost:8080/",
     "height": 224
    },
    "id": "Q4jnogs_Yqje",
    "outputId": "23b39d4f-c78e-4d65-8894-e2bf93c2850f"
   },
   "outputs": [
    {
     "data": {
      "text/html": [
       "<div>\n",
       "<style scoped>\n",
       "    .dataframe tbody tr th:only-of-type {\n",
       "        vertical-align: middle;\n",
       "    }\n",
       "\n",
       "    .dataframe tbody tr th {\n",
       "        vertical-align: top;\n",
       "    }\n",
       "\n",
       "    .dataframe thead th {\n",
       "        text-align: right;\n",
       "    }\n",
       "</style>\n",
       "<table border=\"1\" class=\"dataframe\">\n",
       "  <thead>\n",
       "    <tr style=\"text-align: right;\">\n",
       "      <th></th>\n",
       "      <th>StaAcc</th>\n",
       "      <th>DuMon</th>\n",
       "      <th>CredHis</th>\n",
       "      <th>Purpose</th>\n",
       "      <th>CredAmt</th>\n",
       "      <th>SavAcc</th>\n",
       "      <th>PreEmpl</th>\n",
       "      <th>InsRt</th>\n",
       "      <th>PerSta</th>\n",
       "      <th>OthDebtor</th>\n",
       "      <th>...</th>\n",
       "      <th>Property</th>\n",
       "      <th>Age</th>\n",
       "      <th>IntPla</th>\n",
       "      <th>Housing</th>\n",
       "      <th>ExstCredit</th>\n",
       "      <th>Job</th>\n",
       "      <th>NoMain</th>\n",
       "      <th>Phone</th>\n",
       "      <th>ForWorker</th>\n",
       "      <th>Response</th>\n",
       "    </tr>\n",
       "  </thead>\n",
       "  <tbody>\n",
       "    <tr>\n",
       "      <th>0</th>\n",
       "      <td>A11</td>\n",
       "      <td>6</td>\n",
       "      <td>A34</td>\n",
       "      <td>A43</td>\n",
       "      <td>1169</td>\n",
       "      <td>A65</td>\n",
       "      <td>A75</td>\n",
       "      <td>4</td>\n",
       "      <td>A93</td>\n",
       "      <td>A101</td>\n",
       "      <td>...</td>\n",
       "      <td>A121</td>\n",
       "      <td>67</td>\n",
       "      <td>A143</td>\n",
       "      <td>A152</td>\n",
       "      <td>2</td>\n",
       "      <td>A173</td>\n",
       "      <td>1</td>\n",
       "      <td>A192</td>\n",
       "      <td>A201</td>\n",
       "      <td>1</td>\n",
       "    </tr>\n",
       "    <tr>\n",
       "      <th>1</th>\n",
       "      <td>A12</td>\n",
       "      <td>48</td>\n",
       "      <td>A32</td>\n",
       "      <td>A43</td>\n",
       "      <td>5951</td>\n",
       "      <td>A61</td>\n",
       "      <td>A73</td>\n",
       "      <td>2</td>\n",
       "      <td>A92</td>\n",
       "      <td>A101</td>\n",
       "      <td>...</td>\n",
       "      <td>A121</td>\n",
       "      <td>22</td>\n",
       "      <td>A143</td>\n",
       "      <td>A152</td>\n",
       "      <td>1</td>\n",
       "      <td>A173</td>\n",
       "      <td>1</td>\n",
       "      <td>A191</td>\n",
       "      <td>A201</td>\n",
       "      <td>2</td>\n",
       "    </tr>\n",
       "    <tr>\n",
       "      <th>2</th>\n",
       "      <td>A14</td>\n",
       "      <td>12</td>\n",
       "      <td>A34</td>\n",
       "      <td>A46</td>\n",
       "      <td>2096</td>\n",
       "      <td>A61</td>\n",
       "      <td>A74</td>\n",
       "      <td>2</td>\n",
       "      <td>A93</td>\n",
       "      <td>A101</td>\n",
       "      <td>...</td>\n",
       "      <td>A121</td>\n",
       "      <td>49</td>\n",
       "      <td>A143</td>\n",
       "      <td>A152</td>\n",
       "      <td>1</td>\n",
       "      <td>A172</td>\n",
       "      <td>2</td>\n",
       "      <td>A191</td>\n",
       "      <td>A201</td>\n",
       "      <td>1</td>\n",
       "    </tr>\n",
       "    <tr>\n",
       "      <th>3</th>\n",
       "      <td>A11</td>\n",
       "      <td>42</td>\n",
       "      <td>A32</td>\n",
       "      <td>A42</td>\n",
       "      <td>7882</td>\n",
       "      <td>A61</td>\n",
       "      <td>A74</td>\n",
       "      <td>2</td>\n",
       "      <td>A93</td>\n",
       "      <td>A103</td>\n",
       "      <td>...</td>\n",
       "      <td>A122</td>\n",
       "      <td>45</td>\n",
       "      <td>A143</td>\n",
       "      <td>A153</td>\n",
       "      <td>1</td>\n",
       "      <td>A173</td>\n",
       "      <td>2</td>\n",
       "      <td>A191</td>\n",
       "      <td>A201</td>\n",
       "      <td>1</td>\n",
       "    </tr>\n",
       "    <tr>\n",
       "      <th>4</th>\n",
       "      <td>A11</td>\n",
       "      <td>24</td>\n",
       "      <td>A33</td>\n",
       "      <td>A40</td>\n",
       "      <td>4870</td>\n",
       "      <td>A61</td>\n",
       "      <td>A73</td>\n",
       "      <td>3</td>\n",
       "      <td>A93</td>\n",
       "      <td>A101</td>\n",
       "      <td>...</td>\n",
       "      <td>A124</td>\n",
       "      <td>53</td>\n",
       "      <td>A143</td>\n",
       "      <td>A153</td>\n",
       "      <td>2</td>\n",
       "      <td>A173</td>\n",
       "      <td>2</td>\n",
       "      <td>A191</td>\n",
       "      <td>A201</td>\n",
       "      <td>2</td>\n",
       "    </tr>\n",
       "  </tbody>\n",
       "</table>\n",
       "<p>5 rows × 21 columns</p>\n",
       "</div>"
      ],
      "text/plain": [
       "  StaAcc  DuMon CredHis Purpose  CredAmt SavAcc PreEmpl  InsRt PerSta  \\\n",
       "0    A11      6     A34     A43     1169    A65     A75      4    A93   \n",
       "1    A12     48     A32     A43     5951    A61     A73      2    A92   \n",
       "2    A14     12     A34     A46     2096    A61     A74      2    A93   \n",
       "3    A11     42     A32     A42     7882    A61     A74      2    A93   \n",
       "4    A11     24     A33     A40     4870    A61     A73      3    A93   \n",
       "\n",
       "  OthDebtor  ...  Property Age  IntPla Housing ExstCredit   Job NoMain  Phone  \\\n",
       "0      A101  ...      A121  67    A143    A152          2  A173      1   A192   \n",
       "1      A101  ...      A121  22    A143    A152          1  A173      1   A191   \n",
       "2      A101  ...      A121  49    A143    A152          1  A172      2   A191   \n",
       "3      A103  ...      A122  45    A143    A153          1  A173      2   A191   \n",
       "4      A101  ...      A124  53    A143    A153          2  A173      2   A191   \n",
       "\n",
       "  ForWorker Response  \n",
       "0      A201        1  \n",
       "1      A201        2  \n",
       "2      A201        1  \n",
       "3      A201        1  \n",
       "4      A201        2  \n",
       "\n",
       "[5 rows x 21 columns]"
      ]
     },
     "execution_count": 26,
     "metadata": {},
     "output_type": "execute_result"
    }
   ],
   "source": [
    "# Read Data CSV\n",
    "# Header = None -> Pandas automatically assign the FIRST ROW OF DF (which is the actual column names) to the FIRST ROW (hence your columns no longer have names)\n",
    "# Header = 0 -> Pandas first deletes column names (header: row 1) and then assign new column names to them (only if you pass names = [........] while loading your file).\n",
    "\n",
    "df = pd.read_csv(\"http://archive.ics.uci.edu/ml/machine-learning-databases/statlog/german/german.data\", \n",
    "                 header=None,names=['StaAcc', 'DuMon', 'CredHis', 'Purpose', 'CredAmt', 'SavAcc', \\\n",
    "                                     'PreEmpl', 'InsRt', 'PerSta', 'OthDebtor', 'PreRe', 'Property', \\\n",
    "                                     'Age', 'IntPla', 'Housing', 'ExstCredit', 'Job', 'NoMain', 'Phone', 'ForWorker', \"Response\"],\n",
    "                 index_col = None, sep=\" \")\n",
    "df.head()"
   ]
  },
  {
   "cell_type": "code",
   "execution_count": 32,
   "id": "2a22b927",
   "metadata": {
    "colab": {
     "base_uri": "https://localhost:8080/"
    },
    "id": "mR5Ie1MmfhVL",
    "outputId": "91ed14e5-eced-4d97-8257-ccfdffd8d101"
   },
   "outputs": [
    {
     "name": "stdout",
     "output_type": "stream",
     "text": [
      "<class 'pandas.core.frame.DataFrame'>\n",
      "RangeIndex: 1000 entries, 0 to 999\n",
      "Data columns (total 21 columns):\n",
      " #   Column      Non-Null Count  Dtype \n",
      "---  ------      --------------  ----- \n",
      " 0   StaAcc      1000 non-null   object\n",
      " 1   DuMon       1000 non-null   int64 \n",
      " 2   CredHis     1000 non-null   object\n",
      " 3   Purpose     1000 non-null   object\n",
      " 4   CredAmt     1000 non-null   int64 \n",
      " 5   SavAcc      1000 non-null   object\n",
      " 6   PreEmpl     1000 non-null   object\n",
      " 7   InsRt       1000 non-null   int64 \n",
      " 8   PerSta      1000 non-null   object\n",
      " 9   OthDebtor   1000 non-null   object\n",
      " 10  PreRe       1000 non-null   int64 \n",
      " 11  Property    1000 non-null   object\n",
      " 12  Age         1000 non-null   int64 \n",
      " 13  IntPla      1000 non-null   object\n",
      " 14  Housing     1000 non-null   object\n",
      " 15  ExstCredit  1000 non-null   int64 \n",
      " 16  Job         1000 non-null   object\n",
      " 17  NoMain      1000 non-null   int64 \n",
      " 18  Phone       1000 non-null   object\n",
      " 19  ForWorker   1000 non-null   object\n",
      " 20  Response    1000 non-null   int64 \n",
      "dtypes: int64(8), object(13)\n",
      "memory usage: 164.2+ KB\n"
     ]
    }
   ],
   "source": [
    "# Info\n",
    "df.info()"
   ]
  },
  {
   "cell_type": "code",
   "execution_count": 30,
   "id": "634f8850",
   "metadata": {
    "colab": {
     "base_uri": "https://localhost:8080/",
     "height": 297
    },
    "id": "s0QloWR9qKyg",
    "outputId": "77533feb-9099-4a02-f72c-bf4c7c86df1d"
   },
   "outputs": [
    {
     "data": {
      "text/html": [
       "<div>\n",
       "<style scoped>\n",
       "    .dataframe tbody tr th:only-of-type {\n",
       "        vertical-align: middle;\n",
       "    }\n",
       "\n",
       "    .dataframe tbody tr th {\n",
       "        vertical-align: top;\n",
       "    }\n",
       "\n",
       "    .dataframe thead th {\n",
       "        text-align: right;\n",
       "    }\n",
       "</style>\n",
       "<table border=\"1\" class=\"dataframe\">\n",
       "  <thead>\n",
       "    <tr style=\"text-align: right;\">\n",
       "      <th></th>\n",
       "      <th>DuMon</th>\n",
       "      <th>CredAmt</th>\n",
       "      <th>InsRt</th>\n",
       "      <th>PreRe</th>\n",
       "      <th>Age</th>\n",
       "      <th>ExstCredit</th>\n",
       "      <th>NoMain</th>\n",
       "      <th>Response</th>\n",
       "    </tr>\n",
       "  </thead>\n",
       "  <tbody>\n",
       "    <tr>\n",
       "      <th>count</th>\n",
       "      <td>1000.000000</td>\n",
       "      <td>1000.000000</td>\n",
       "      <td>1000.000000</td>\n",
       "      <td>1000.000000</td>\n",
       "      <td>1000.000000</td>\n",
       "      <td>1000.000000</td>\n",
       "      <td>1000.000000</td>\n",
       "      <td>1000.000000</td>\n",
       "    </tr>\n",
       "    <tr>\n",
       "      <th>mean</th>\n",
       "      <td>20.903000</td>\n",
       "      <td>3271.258000</td>\n",
       "      <td>2.973000</td>\n",
       "      <td>2.845000</td>\n",
       "      <td>35.546000</td>\n",
       "      <td>1.407000</td>\n",
       "      <td>1.155000</td>\n",
       "      <td>1.300000</td>\n",
       "    </tr>\n",
       "    <tr>\n",
       "      <th>std</th>\n",
       "      <td>12.058814</td>\n",
       "      <td>2822.736876</td>\n",
       "      <td>1.118715</td>\n",
       "      <td>1.103718</td>\n",
       "      <td>11.375469</td>\n",
       "      <td>0.577654</td>\n",
       "      <td>0.362086</td>\n",
       "      <td>0.458487</td>\n",
       "    </tr>\n",
       "    <tr>\n",
       "      <th>min</th>\n",
       "      <td>4.000000</td>\n",
       "      <td>250.000000</td>\n",
       "      <td>1.000000</td>\n",
       "      <td>1.000000</td>\n",
       "      <td>19.000000</td>\n",
       "      <td>1.000000</td>\n",
       "      <td>1.000000</td>\n",
       "      <td>1.000000</td>\n",
       "    </tr>\n",
       "    <tr>\n",
       "      <th>25%</th>\n",
       "      <td>12.000000</td>\n",
       "      <td>1365.500000</td>\n",
       "      <td>2.000000</td>\n",
       "      <td>2.000000</td>\n",
       "      <td>27.000000</td>\n",
       "      <td>1.000000</td>\n",
       "      <td>1.000000</td>\n",
       "      <td>1.000000</td>\n",
       "    </tr>\n",
       "    <tr>\n",
       "      <th>50%</th>\n",
       "      <td>18.000000</td>\n",
       "      <td>2319.500000</td>\n",
       "      <td>3.000000</td>\n",
       "      <td>3.000000</td>\n",
       "      <td>33.000000</td>\n",
       "      <td>1.000000</td>\n",
       "      <td>1.000000</td>\n",
       "      <td>1.000000</td>\n",
       "    </tr>\n",
       "    <tr>\n",
       "      <th>75%</th>\n",
       "      <td>24.000000</td>\n",
       "      <td>3972.250000</td>\n",
       "      <td>4.000000</td>\n",
       "      <td>4.000000</td>\n",
       "      <td>42.000000</td>\n",
       "      <td>2.000000</td>\n",
       "      <td>1.000000</td>\n",
       "      <td>2.000000</td>\n",
       "    </tr>\n",
       "    <tr>\n",
       "      <th>max</th>\n",
       "      <td>72.000000</td>\n",
       "      <td>18424.000000</td>\n",
       "      <td>4.000000</td>\n",
       "      <td>4.000000</td>\n",
       "      <td>75.000000</td>\n",
       "      <td>4.000000</td>\n",
       "      <td>2.000000</td>\n",
       "      <td>2.000000</td>\n",
       "    </tr>\n",
       "  </tbody>\n",
       "</table>\n",
       "</div>"
      ],
      "text/plain": [
       "             DuMon       CredAmt        InsRt        PreRe          Age  \\\n",
       "count  1000.000000   1000.000000  1000.000000  1000.000000  1000.000000   \n",
       "mean     20.903000   3271.258000     2.973000     2.845000    35.546000   \n",
       "std      12.058814   2822.736876     1.118715     1.103718    11.375469   \n",
       "min       4.000000    250.000000     1.000000     1.000000    19.000000   \n",
       "25%      12.000000   1365.500000     2.000000     2.000000    27.000000   \n",
       "50%      18.000000   2319.500000     3.000000     3.000000    33.000000   \n",
       "75%      24.000000   3972.250000     4.000000     4.000000    42.000000   \n",
       "max      72.000000  18424.000000     4.000000     4.000000    75.000000   \n",
       "\n",
       "        ExstCredit       NoMain     Response  \n",
       "count  1000.000000  1000.000000  1000.000000  \n",
       "mean      1.407000     1.155000     1.300000  \n",
       "std       0.577654     0.362086     0.458487  \n",
       "min       1.000000     1.000000     1.000000  \n",
       "25%       1.000000     1.000000     1.000000  \n",
       "50%       1.000000     1.000000     1.000000  \n",
       "75%       2.000000     1.000000     2.000000  \n",
       "max       4.000000     2.000000     2.000000  "
      ]
     },
     "execution_count": 30,
     "metadata": {},
     "output_type": "execute_result"
    }
   ],
   "source": [
    "# Describe statistics\n",
    "df.describe()"
   ]
  },
  {
   "cell_type": "markdown",
   "id": "12e55090",
   "metadata": {
    "id": "awpnFB21wAOQ"
   },
   "source": [
    "Kết quả thống kê mô tả sơ bộ trên các biến numeric cho thấy các biến khác biệt nhau về đơn vị lớn. Trung bình thấp nhất là 1.155 và cao nhất lên tới 3271.258. Như vậy khả năng cao chúng ta sẽ cần phải chuẩn hoá các biến để loại bỏ sự khác biệt về đơn vị trước khi xây dựng mô hình."
   ]
  },
  {
   "cell_type": "markdown",
   "id": "3b116ebd",
   "metadata": {},
   "source": [
    "## 2.2. Distributed Variables"
   ]
  },
  {
   "cell_type": "markdown",
   "id": "ca847101",
   "metadata": {},
   "source": [
    "### 2.1.2.1. Continuous Variable"
   ]
  },
  {
   "cell_type": "markdown",
   "id": "27f23bc0",
   "metadata": {
    "id": "PEngqUJZworv"
   },
   "source": [
    "Chúng ta không nên tin tưởng hoàn toàn vào thống kê mô tả mà cần nhìn trực tiếp vào hình dạng phân phối của các biến. Điều này nhằm tránh những sai sót khi đánh giá về tính chất của biến khi chúng khác biệt xa nhau về phân phối. Điều này đã được giải thích trong [ví dụ phân phối chú khủng long](https://phamdinhkhanh.github.io/deepai-book/ch_appendix/appendix_matplotlib.html#density).\n",
    "\n",
    "Chúng ta có thể dùng biểu đồ density kết hợp với histogram để tìm ra phân phối của biến."
   ]
  },
  {
   "cell_type": "code",
   "execution_count": 33,
   "id": "b2df531a",
   "metadata": {},
   "outputs": [],
   "source": [
    "import warnings\n",
    "warnings.simplefilter(action='ignore', category=FutureWarning)"
   ]
  },
  {
   "cell_type": "code",
   "execution_count": 57,
   "id": "b00d833d",
   "metadata": {},
   "outputs": [
    {
     "data": {
      "text/plain": [
       "Index(['DuMon', 'CredAmt', 'InsRt', 'PreRe', 'Age', 'ExstCredit', 'NoMain',\n",
       "       'Response'],\n",
       "      dtype='object')"
      ]
     },
     "execution_count": 57,
     "metadata": {},
     "output_type": "execute_result"
    }
   ],
   "source": [
    "# Select dtype is float/int to find numeric var to plot \n",
    "numeric_cols = df.select_dtypes(include=['float','int']).columns\n",
    "numeric_cols"
   ]
  },
  {
   "cell_type": "code",
   "execution_count": 83,
   "id": "e15bab12",
   "metadata": {
    "colab": {
     "base_uri": "https://localhost:8080/",
     "height": 910
    },
    "id": "NANc1ciCyNm5",
    "outputId": "0ec85f62-72b1-4a2e-d001-1745403e4514"
   },
   "outputs": [
    {
     "name": "stdout",
     "output_type": "stream",
     "text": [
      "Number of numeric field:  8\n"
     ]
    },
    {
     "data": {
      "image/png": "[encoded data removed]",
      "text/plain": [
       "<Figure size 1080x1080 with 8 Axes>"
      ]
     },
     "metadata": {
      "needs_background": "light"
     },
     "output_type": "display_data"
    }
   ],
   "source": [
    "# Destiny Plot (Histogram for continuous var (use bins) with KDE: Kernel Density Estimate)\n",
    "def _plot_numeric_classes(df, col, bins = 10): #default bins = 10\n",
    "    sns.distplot(df[col], bins = bins)\n",
    "\n",
    "# Function distributed numeric for each graph \n",
    "def _distribution_numeric(df, numeric_cols, row = 3, col = 3, figsize = (15, 15), bins = 10):\n",
    "    # numeric_cols: list columns \n",
    "    # row: number of rows in grid graph (this case 3x3)\n",
    "    # col: number of columns in grid graph (this case 3x3)\n",
    "    # bins: number of bins divided in distribution diagram\n",
    "\n",
    "    # Print number of graph \n",
    "    print('Number of numeric field: ', len(numeric_cols))\n",
    "\n",
    "    # An assert statement checks whether a condition is true. \n",
    "    # True -> keep running. \n",
    "    # False -> return AssertionError -> stop executing.\n",
    "    assert row * (col-1) < len(numeric_cols)\n",
    "\n",
    "    # Size Figure\n",
    "    plt.figure(figsize = figsize)\n",
    "\n",
    "    # Distributed var\n",
    "    for i in range(1, len(numeric_cols)+1):\n",
    "      try:\n",
    "        plt.subplot(row, col, i)                                      # Arrange to order of grid graph\n",
    "        _plot_numeric_classes(df, numeric_cols[i-1], bins = bins)     # Applied destiny for each num_col \n",
    "        plt.title(numeric_cols[i-1])                                  # Title\n",
    "      except:\n",
    "        print('Error {}'.format(numeric_cols[i-1]))\n",
    "        break\n",
    "\n",
    "# Run\n",
    "_distribution_numeric(df, numeric_cols)"
   ]
  },
  {
   "cell_type": "markdown",
   "id": "e3fe1b68",
   "metadata": {
    "id": "juhD37kBElUW"
   },
   "source": [
    "Ta nhận thấy một số biến thực chất là biến thứ bậc khi các giá trị chỉ rơi vào một tập giá trị nhất định, chẳng hạn như biến `PreReg` chỉ nhận các giá trị `1, 2, 3, 4`. Khi nhìn vào biểu đồ phân phối của biến ta có thể nhận định đâu là miền mà các biến có mật độ tập trung cao và thấp? Kết hợp với kinh nghiệm business để đánh giá phân phối của biến có phù hợp với thực tế hay không? Đối với trường hợp có quá nhiều biến cần kiểm tra thì chúng ta có thể đối chiếu với phân phối của dữ liệu lịch sử để xem xét những thay đổi của biến. Điều này rất quan trọng vì sự thay đổi của biến sẽ ảnh hưởng trực tiếp tới đầu ra của mô hình."
   ]
  },
  {
   "cell_type": "markdown",
   "id": "a22254f5",
   "metadata": {
    "id": "VrGD4aK0Csty"
   },
   "source": [
    "Tương tự đối với biến phân loại chúng ta sẽ thống kê được tần suất giá trị của các nhãn trong một biến."
   ]
  },
  {
   "cell_type": "markdown",
   "id": "b0369b90",
   "metadata": {},
   "source": [
    "### 2.1.2.2. Category Variable"
   ]
  },
  {
   "cell_type": "code",
   "execution_count": 91,
   "id": "7cbcf058",
   "metadata": {
    "colab": {
     "base_uri": "https://localhost:8080/",
     "height": 810
    },
    "id": "JbtnKEaJCzhy",
    "outputId": "41239ba5-7a8f-45d2-b83d-2b751c53e2a3"
   },
   "outputs": [
    {
     "name": "stdout",
     "output_type": "stream",
     "text": [
      "Number of category field:  13\n"
     ]
    },
    {
     "data": {
      "image/png": "[encoded data removed]",
      "text/plain": [
       "<Figure size 2160x1152 with 13 Axes>"
      ]
     },
     "metadata": {
      "needs_background": "light"
     },
     "output_type": "display_data"
    }
   ],
   "source": [
    "# Choose column with type = object\n",
    "cate_cols = df.select_dtypes('object').columns\n",
    "\n",
    "# Function plot 1 bar chart\n",
    "def _plot_bar_classes(df, cols):\n",
    "    df[cols].value_counts().plot.bar()\n",
    "\n",
    "# Function distribution var for some charts\n",
    "def _distribution_cate(df, cate_cols, row = 1, col = 2, figsize = (20, 5)):\n",
    "  print('Number of category field: ', len(cate_cols)) \n",
    "  # Size figure\n",
    "  plt.figure(figsize = figsize)\n",
    "\n",
    "  # Distributed var\n",
    "  for i in range(1, len(cate_cols)+1, 1):\n",
    "    try:\n",
    "      plt.subplot(row, col, i)\n",
    "      _plot_bar_classes(df, cate_cols[i-1])\n",
    "      plt.title(cate_cols[i-1])\n",
    "    except:\n",
    "      break\n",
    "\n",
    "_distribution_cate(df, cate_cols, row = 4, col = 4, figsize = (30, 16))"
   ]
  },
  {
   "cell_type": "markdown",
   "id": "2dc40c12",
   "metadata": {
    "id": "55Wo9wEYHoTK"
   },
   "source": [
    "Ta nhận thấy có nhiều nhãn trong biến phân loại có số lượng quan sát rất ít. Theo kinh nghiệm thì các nhãn thiểu số lại có thể là đặc trưng riêng của một nhãn đầu ra. Vì thế chúng ta có thể khảo sát thêm tỷ lệ giữa GOOD/BAD cách biệt như thế nào ở những nhãn này. Kết quả đánh giá chúng có thể giúp ta đưa ra một số kết luận hữu ích đối với phân loại nhãn."
   ]
  },
  {
   "cell_type": "markdown",
   "id": "21fa3c07",
   "metadata": {
    "id": "BVec93GYHfRC"
   },
   "source": [
    "## 2.3. Train, Val & Test"
   ]
  },
  {
   "cell_type": "markdown",
   "id": "90ea95c9",
   "metadata": {},
   "source": [
    "Hầu hết các mô hình machine learning đều yêu cầu việc phân chia tập train/test. Tiếp theo đó chúng ta sẽ tách một phần nhỏ từ tập train thành tập validation dùng để đánh giá mô hình. Một số bộ dữ liệu lớn chúng ta còn tách thành tập train/dev/test trong đó:\n",
    "\n",
    "* Tập train: Huấn luyện mô hình. Chúng ta có thể huấn luyện mô hình trên tập train theo phương pháp cross validation. Khi đó tập validation sẽ được tách ra từ tập train để đánh giá độc lập hiệu suất của mô hình và kiểm tra các hiện tượng overfitting và underfitting.\n",
    " \n",
    "* Tập test: Đánh giá lại mô hình trên những dữ liệu mới và khắc phục các sự cố mô hình như overfitting, underfitting.\n",
    "\n",
    "* Tập dev: Đánh giá mô hình để đưa ra các quyết định lựa chọn siêu tham số phù hợp cho từng lớp mô hình.\n",
    "\n",
    "\n",
    "Mục đích của tập train là huấn luyện mô hình nên tập train cần chiếm tỷ lệ lớn để giúp mô hình học bao quát được các trường hợp của dữ liệu. Tập validation là tập dữ liệu sử dụng để đánh giá lại mô hình xem có xảy ra các hiện tượng overfitting và underfitting hay không? Những hiện tượng này cần được khắc phục nhằm giúp mô hình dự báo tốt hơn trên dữ liệu thực tế. \n",
    "\n",
    "Chúng ta thắc mắc nếu đã có tập validation thì tại sao lại cần thêm tập test? Tập test là một tập được lựa chọn sao cho phân phối và tính chất giống với dữ liệu thực tế nhất. Mục tiêu của tập này là để kiểm tra hiệu năng của mô hình nếu triển khai trên production. Thông thường kích thước tập test được lấy bằng tập validation. Để lựa chọn mô hình nào tốt nhất chúng ta sẽ căn cứ trên kết quả đánh giá trên tập test.\n",
    "\n",
    "Tỷ lệ phân chia train/test khá đa dạng và không có qui định cụ thể. Theo kinh nghiệm, chúng ta có thể lấy theo các tỷ lệ `50:50` hoặc `70:30` nếu dữ liệu dồi dào, `80:20` hoặc `90:10` nếu dữ liệu ít.\n",
    "\n",
    "Để phân chia dữ liệu chúng ta dùng hàm `train_test_split()`. Lựa chọn `stratify=df['Response']` để giúp cân bằng tỷ lệ `Good/Bad` trên cả train và test."
   ]
  },
  {
   "cell_type": "code",
   "execution_count": 94,
   "id": "0a0007da",
   "metadata": {
    "colab": {
     "base_uri": "https://localhost:8080/"
    },
    "id": "MAtfTW76gN8V",
    "outputId": "692ffbba-98eb-4faf-a1c0-673c351eef57"
   },
   "outputs": [],
   "source": [
    "from sklearn.model_selection import train_test_split\n",
    "\n",
    "# Train/Test = 80/20\n",
    "df_train, df_test = train_test_split(df, test_size=0.2, random_state=42, stratify = df['Response'])\n",
    "X_train = df_train.copy()\n",
    "y_train = X_train.pop(\"Response\")\n",
    "\n",
    "X_test = df_test.copy()\n",
    "y_test = X_test.pop(\"Response\") # Pop return value remove > y_test in [1,2]"
   ]
  },
  {
   "cell_type": "code",
   "execution_count": 97,
   "id": "59e0e0fe",
   "metadata": {},
   "outputs": [
    {
     "name": "stdout",
     "output_type": "stream",
     "text": [
      "(800, 20) (800,)\n",
      "(200, 20) (200,)\n"
     ]
    }
   ],
   "source": [
    "print(X_train.shape, y_train.shape)\n",
    "print(X_test.shape, y_test.shape)"
   ]
  },
  {
   "cell_type": "markdown",
   "id": "d7d9ae1a",
   "metadata": {
    "id": "LVqgs3NcM0Ef"
   },
   "source": [
    "Tập validation sẽ được trích từ tập train ở trên theo tỷ lệ train/test=80/20. Cách chia này có thể cố định một lần hoặc thực hiện cross validation bằng cách chia thành K-Fold."
   ]
  },
  {
   "cell_type": "markdown",
   "id": "1e057377",
   "metadata": {
    "id": "-WAdpmDhNR4P"
   },
   "source": [
    "## 2.4. Preprocessing Model"
   ]
  },
  {
   "cell_type": "markdown",
   "id": "f0fa5c88",
   "metadata": {},
   "source": [
    "Bước tiếp theo là tiền xử lý dữ liệu. Ở bước này sẽ thực hiện các biến đổi chủ yếu nhằm biến dữ liệu thô chưa qua xử lý thành dữ liệu tinh có thể đưa vào mô hình huấn luyện. Trong sklearn hầu hết đã có sẵn những hàm chức năng giúp ta thực hiện các tiền xử lý dữ liệu một cách dễ dàng. Các xử lý chính bao gồm:\n",
    "\n",
    "* **Số hoá cho các biến đầu vào dạng phân loại** (dùng `OneHotEncoder`).\n",
    "* **Xử lý missing data (dùng `SimpleImputer`)**\n",
    "* **Loại bỏ các outlier (dùng `MinMaxScaler`)**\n",
    "\n",
    "Để kiểm soát các bước xử lý một cách tuần tự thì chúng ta sẽ thiết kế một pipeline khai báo các bước xử lý ở bên trong nó. Như vậy khi cần huấn luyện và dự báo chúng ta chỉ cần đưa vào dữ liệu thô vào pipeline để thu được đầu ra là dữ liệu tinh có thể huấn luyện và dự báo được."
   ]
  },
  {
   "cell_type": "markdown",
   "id": "d4286397",
   "metadata": {
    "id": "aQUD_n-AVw2Q"
   },
   "source": [
    "### Tách biệt xử lý cho biến liên tục và biến phân loại"
   ]
  },
  {
   "cell_type": "markdown",
   "id": "19f59c6a",
   "metadata": {},
   "source": [
    "Do các biến liên tục và biến phân loại có tính chất khác biệt nhau. Đối với biến liên tục thì có thể huấn luyện trực tiếp mô hình trên đó còn biến phân loại sẽ cần chúng ta mã hoá thành biến số học trước khi huấn luyện. Như vậy sẽ cần pipeline xử lý riêng cho từng loại biến. Để xây dựng pipeline trong sklearn chúng ta sử dụng hàm `Pipeline()`. Bên trong hàm này là một list gồm các steps xử lý theo tuần tự. Tiếp theo chúng ta sẽ thực hành thiết kế một pipeline mẫu cho bài toán này. Code mẫu cho bước này được tham khảo tại [pipeline đơn giản cho cuộc thi Titanic](https://machinelearningcoban.com/tabml_book/ch_intro/titanic_pipeline.html)."
   ]
  },
  {
   "cell_type": "code",
   "execution_count": 98,
   "id": "5cbbfbc6",
   "metadata": {
    "id": "I2urH58vi9nK"
   },
   "outputs": [],
   "source": [
    "# List names of continuous & category vars\n",
    "cat_names = list(X_train.select_dtypes('object').columns)\n",
    "num_names = list(X_train.select_dtypes(['float', 'int']).columns)"
   ]
  },
  {
   "cell_type": "code",
   "execution_count": 99,
   "id": "bde63f05",
   "metadata": {
    "id": "gNueMDY-dRlk"
   },
   "outputs": [],
   "source": [
    "# Pipeline process for category variable\n",
    "cat_pl= Pipeline(\n",
    "    steps=[('imputer', SimpleImputer(strategy='most_frequent')),    # Process missing data by most frequent\n",
    "           ('onehot', OneHotEncoder())])                            # Convert category var > vector OneHot"
   ]
  },
  {
   "cell_type": "code",
   "execution_count": 100,
   "id": "0975a3ea",
   "metadata": {
    "id": "LrL6LAlHiTsk"
   },
   "outputs": [],
   "source": [
    "# Pipeline process for continuous variable\n",
    "num_pl = Pipeline(\n",
    "    steps=[('imputer', KNNImputer(n_neighbors=7)),                 # Process missing data by predict KNN (n=7)\n",
    "           ('scaler', MinMaxScaler())])                            # Process missing data by MinMax scaler"
   ]
  },
  {
   "cell_type": "markdown",
   "id": "b82bac90",
   "metadata": {
    "id": "1dHF2QqrxdPb"
   },
   "source": [
    "Các bạn nhận thấy các bước trong steps của `Pipeline` là một tuple gồm hai phần tử. Phần tử đầu tiên là tên của bước xử lý và phần tử thứ hai là phương pháp xử lý tương ứng. Việc đặt tên cho bước xử lý sẽ giúp ta nắm bắt được thứ tự và kiểm soát toàn bộ quá trình xử lý.\n",
    "\n",
    "class `ColumnTransformer` trong sklearn là một phương pháp biến đổi được áp dụng trên các cột. Chúng ta có thể gộp chung hai biến đổi trên biến liên tục và phân loại như sau thông qua class này như sau:"
   ]
  },
  {
   "cell_type": "code",
   "execution_count": 101,
   "id": "c688462e",
   "metadata": {
    "id": "jqCf9p9Yib37"
   },
   "outputs": [],
   "source": [
    "preprocessor = ColumnTransformer(\n",
    "    transformers=[('num', num_pl, num_names),                    # Applied pipeline for continuous var\n",
    "                  ('cat', cat_pl, cat_names)])                   # Applied pipeline for category var"
   ]
  },
  {
   "cell_type": "markdown",
   "id": "1e33e8f0",
   "metadata": {
    "id": "RhS1_KaOXlqD"
   },
   "source": [
    "Như vậy các biến liên tục được qui định trong list `num_names` sẽ áp dụng xử lý là pipeline `num_pl` và biến phân loại trong list `cate_names` sẽ áp dụng xử lý là pipeline `cat_pl`."
   ]
  },
  {
   "cell_type": "markdown",
   "id": "3f446ce2",
   "metadata": {
    "id": "3EPFQdU9zuTI"
   },
   "source": [
    "## 2.5. Full Pipeline (Preprocessing Data + Train Model)"
   ]
  },
  {
   "cell_type": "markdown",
   "id": "e0453e4c",
   "metadata": {},
   "source": [
    "Sau khi đã có Pipleline tiền xử lý dữ liệu hoàn chỉnh thì chúng ta đã có thể thu được dữ liệu sạch ở đầu ra. Tiếp theo cần đưa dữ liệu đã làm sạch qua mô hình để huấn luyện. Cả hai bước tiền xử lý dữ liệu và huấn luyên mô hình có thể tiếp tục đóng gói trong một Pipeline như sau:"
   ]
  },
  {
   "cell_type": "code",
   "execution_count": 115,
   "id": "c8b79b94",
   "metadata": {
    "colab": {
     "base_uri": "https://localhost:8080/"
    },
    "id": "5Ce1mlViikcQ",
    "outputId": "7246fcf2-b6f8-40c9-a775-325eee83cba3"
   },
   "outputs": [
    {
     "name": "stdout",
     "output_type": "stream",
     "text": [
      "Accuracy on train: 1.00\n",
      "Accuracy on test: 0.76\n"
     ]
    }
   ],
   "source": [
    "# Completed training pipeline\n",
    "completed_pl = Pipeline(\n",
    "    steps=[(\"preprocessor\", preprocessor),                  # Pipeline\n",
    "           (\"classifier\", RandomForestClassifier())])       # Model\n",
    "\n",
    "# Training\n",
    "completed_pl.fit(X_train, y_train)\n",
    "\n",
    "# Accuracy\n",
    "# Train\n",
    "y_train_pred = completed_pl.predict(X_train)\n",
    "print(f\"Accuracy on train: {accuracy_score(list(y_train), list(y_train_pred)):.2f}\")\n",
    "# Test\n",
    "y_pred = completed_pl.predict(X_test)\n",
    "print(f\"Accuracy on test: {accuracy_score(list(y_test), list(y_pred)):.2f}\")"
   ]
  },
  {
   "cell_type": "markdown",
   "id": "c9d904ad",
   "metadata": {
    "id": "bW62NQEo1Jwb"
   },
   "source": [
    "Như vậy chúng ta đã hoàn thiện một Pipeline đơn giản cho mô hình phân loại khả năng trả nợ. Mô hình có độ chính xác trên tập train là 100% và trên tập test là 77% cho thấy có hiện tượng overfitting. Để khắc phục overfitting chúng ta có thể thực hiện cross validation."
   ]
  },
  {
   "cell_type": "markdown",
   "id": "8b0fd15a",
   "metadata": {
    "id": "_qmBpuoKjOa4"
   },
   "source": [
    "# 3. Cross validation"
   ]
  },
  {
   "cell_type": "markdown",
   "id": "7b10a237",
   "metadata": {},
   "source": [
    "\n",
    "Đánh giá chéo là một **thủ tục lấy mẫu** được sử dụng để đánh giá các mô hình machine learning trong quá trình huấn luyện. Cụ thể trong đánh giá chéo (_cross validation_) chúng ta phân chia dữ liệu thành k-folds không chồng lấn, có kích thước bằng nhau. Ở mỗi lượt huấn luyện ta sẽ lựa chọn ra (k-1) folds để huấn luyện và fold còn lại để kiểm định. Như vậy đánh giá chéo sẽ đánh giá được khả năng dự báo của mô hình đối với dữ liệu mà nó chưa nhìn thấy. Căn cứ vào kết quả trên toàn bộ các folds thì chúng ta có thể rút ra kết luận về trung bình, phương sai của các thước đo đánh giá hiệu suất của mô hình và đưa ra đánh giá sơ bộ về sức mạnh của chúng.\n",
    "\n",
    "![](https://scikit-learn.org/stable/_images/grid_search_cross_validation.png)\n",
    "\n",
    "**Hình 1:** [Source - cross validation, sklearn](https://scikit-learn.org/stable/modules/cross_validation.html). Quá trình phân chia dữ liệu, huấn luyện và đánh giá mô hình dựa trên đánh giá chéo."
   ]
  },
  {
   "cell_type": "markdown",
   "id": "2593ec6f",
   "metadata": {
    "id": "kiZsu-efaBgj"
   },
   "source": [
    "## 6.2.1. Lựa chọn thước đo mô hình\n",
    "\n",
    "Lựa chọn thước đo cho mô hình là một công việc khó vì nó đòi hỏi người xây dựng mô hình phải hiểu sâu về vấn đề mình đang giải quyết và đồng thời có kiến thức chuyên môn về mô hình. \n",
    "\n",
    "Trong trường hợp là người chưa có kinh nghiệm bạn có thể lựa chọn các thước đo mô hình thông dụng của bài toán dự báo và bài toán phân loại như bên dưới."
   ]
  },
  {
   "cell_type": "markdown",
   "id": "f9d52e0f",
   "metadata": {
    "id": "FbpKZWx8fgtV"
   },
   "source": [
    "### 6.2.1.1.Thước đo sơ bộ cho bài toán dự báo \n",
    "\n",
    "Trong bài toán dự báo thì chúng ta muốn sai số giữa giá trị dự báo và giá trị thực tế là nhỏ nhất nên MSE (_mean squared error_), RMSE (_root mean squared error_), MAE (_mean absolute error_) hoặc MAPE (_mean absolute percentage error_) thường được lựa chọn.\n",
    "\n",
    "$$\\text{MSE} = \\frac{1}{n}\\sum_{i=1}^{n} (y_i-\\hat{y}_i)^2$$\n",
    "\n",
    "$$\\text{RMSE} = \\sqrt{\\frac{1}{n}\\sum_{i=1}^{n} (y_i-\\hat{y}_i)^2)}$$\n",
    "\n",
    "$$\\text{MAE} = \\frac{1}{n}\\sum_{i=1}^{n} |y_i-\\hat{y}_i|$$\n",
    "\n",
    "$$\\text{MAPE} = \\frac{1}{n}\\sum_{i=1}^{n} |\\frac{y_i-\\hat{y}_i}{y_i}|$$\n",
    "\n",
    "Nhìn vào công thức bạn cũng có thể hình dung sơ bộ ý nghĩa của các chỉ số này rồi chứ?\n",
    "\n",
    "* MSE: Trung bình tổng bình phương sai số giữa giá trị dự báo và thực tế.\n",
    "* RMSE: Khai căn bậc hai của MSE và nó đại diện cho độ lệch giữa giá trị dự báo và thực tế.\n",
    "* MAE: Trung bình trị tuyệt đối của sai số giữa giá trị dự báo và thực tế.\n",
    "* MAPE: Trung bình của tỷ lệ phần trăm sai số tuyệt đối giữa giá trị dự báo và thực tế."
   ]
  },
  {
   "cell_type": "markdown",
   "id": "e92f0971",
   "metadata": {
    "id": "B7E8K-aPfZC4"
   },
   "source": [
    "### 6.2.1.2. Thước đo sơ bộ cho bài toán phân loại\n",
    "\n",
    "Lấy ví dụ một bài toán phân loại nhị phân có bảng chéo thống kê kết quả giữa thực tế và dự báo như sau:\n",
    "\n",
    "![](https://phamdinhkhanh.github.io/assets/images/20200813_ModelMetric/pic1.png)\n",
    "\n",
    "Các chỉ số TP, FP, TN, FN lần lượt có ý nghĩa là :\n",
    "\n",
    "* TP (True Positive): Tổng số trường hợp dự báo khớp Positive.\n",
    "* TN (True Negative): Tổng số trường hợp dự báo khớp Negative.\n",
    "* FP (False Positive): Tổng số trường hợp dự báo các quan sát thuộc nhãn Negative thành Positive. Những sai lầm của False Positive tương ứng với sai lầm loại I (_type I error_), chấp nhận một điều sai. Thực tế cho thấy sai lầm loại I thường gây hậu quả nghiêm trọng hơn so với sai lầm loại II được tìm hiểu bên dưới.\n",
    "* FN (False Negative): Tổng số trường hợp dự báo các quan sát thuộc nhãn Positive thành Negative. Trong trường hợp này chúng ta mắc sai lầm loại II (_type II error_), bác bỏ một điều đúng.\n",
    "\n",
    "Đối với bài toán phân loại thì ta quan tâm tới độ chính xác dự báo trên toàn bộ bộ dữ liệu là bao nhiêu? do đó thước đo phổ biến nhất là `accuracy`. \n",
    "\n",
    "$$\\text{Accuracy} = \\frac{TP+TN}{\\text{total sample}} = \\frac{55+850}{1000} = 90.5 \\%$$\n",
    "\n",
    "**Bài tập:** Bạn hãy giải thích vì sao trong trường hợp mất cân bằng dữ liệu thì accuracy không còn là thước đo mô hình tốt?\n",
    "\n",
    "Trong tính huống mô hình bị mất cân bằng thì accuracy không còn là thước đo tốt nên được thay thế bằng `precision, recall`. \n",
    "\n",
    "$$\\text{Precision} = \\frac{TP}{\\text{total predicted positive}} = \\frac{TP}{TP+FP} = \\frac{55}{55+50} = 52.4 \\%$$\n",
    "\n",
    "$$\\text{Recall} = \\frac{TP}{\\text{total actual positive}} = \\frac{TP}{TP+FN} = \\frac{55}{55+45}=55 \\%$$\n",
    "\n",
    "Hai chỉ số này lần lượt giúp đánh giá tỷ lệ dự báo chính xác positive trên tổng số trường hợp được dự báo là positive và tỷ lệ dự báo chính xác positive trên thực tế. Thực sự rất khó để nói lựa chọn `precision` hay `recall` là tốt hơn nên chúng ta dùng `f1-score` là trung bình điều hoà đại diện cho cả precision và recall. Ngoài ra còn một số chỉ số nâng cao hơn cũng được lựa chọn để đánh giá sức mạnh phân loại như `AUC, Gini Index, Cohen's Kappa` tuy nhiên `f1-score` và `accuracy` theo mình nghĩ vẫn là hai chỉ số cơ bản nhất cho bài toán phân loại mà bạn cần nắm vững.\n",
    "\n",
    "$$f_1 = \\frac{2}{\\frac{1}{\\text{precision}} + \\frac{1}{\\text{recall}}}$$\n",
    "\n",
    "$f_{\\beta}$ là trường hợp tổng quát hơn của $f_1$ khi ta coi mức độ quan trọng của `recall` bằng $\\beta$ lần `precision`.\n",
    "\n",
    "$$\\begin{eqnarray}\n",
    "f_{\\beta} & = & \\frac{1+\\beta^2}{\\frac{1}{\\text{precision}} + \\frac{\\beta^2}{\\text{recall}}} \\\\\n",
    "& = & \\frac{(1+\\beta^2) \\times \\text{precision} \\times \\text{recall}}{\\beta^2 \\text{precision}+\\text{recall}} \\\\\n",
    "& = & \\frac{(1+\\beta^2)\\times\\text{TP}}{(1+\\beta^2)\\times\\text{TP}+\\beta^2 \\times \\text{FN} + \\text{FP}}\n",
    "\\end{eqnarray}$$"
   ]
  },
  {
   "cell_type": "markdown",
   "id": "2930ceb6",
   "metadata": {
    "id": "VwXIDA3xfds2"
   },
   "source": [
    "Bộ dữ liệu [german credit](https://archive.ics.uci.edu/ml/datasets/statlog+(german+credit+data)) có tính chất mất cân bằng nên chúng ta sẽ lựa chọn `f-score` thay cho `accuracy`. Hơn nữa trong mô tả của bộ dữ liệu đã qui định:\n",
    "\n",
    "`It is worse to class a customer as good when they are bad (5), than it is to class a customer as bad when they are good (1).`\n",
    "\n",
    "Tức là một trường hợp `False Negative` có mức độ sai lầm bằng 5 trường hợp `False Positive` nên ta sẽ lựa chọn $\\beta^2=5$."
   ]
  },
  {
   "cell_type": "code",
   "execution_count": 13,
   "id": "c25e35ac",
   "metadata": {
    "id": "TLVsIdT_lC7r"
   },
   "outputs": [],
   "source": [
    "from sklearn.metrics import fbeta_score\n",
    "from sklearn.metrics import make_scorer\n",
    "import numpy as np\n",
    "\n",
    "# Tính fbeta score\n",
    "def fbeta(y_true, y_pred):\n",
    "\treturn fbeta_score(y_true, y_pred, beta=np.sqrt(5))"
   ]
  },
  {
   "cell_type": "markdown",
   "id": "adeb6a4e",
   "metadata": {
    "id": "k24TvElsNBKW"
   },
   "source": [
    "### 6.2.1.3. Thực hiện cross validation\n",
    "\n",
    "Để thực hiện cross validation chúng ta sử dụng class `RepeatedStratifiedKFold()` với `n_splits` là số lần chia dữ liệu và `n_repeates` là số lần lặp lại quá trình cross validation. Như vậy chúng ta sẽ có tổng cộng `n_splits x n_repeats = 30` lượt đánh giá dữ liệu.\n",
    "\n",
    "Hàm `cross_val_score()` sẽ được sử dụng để tính toán thước đo mô hình trên các lượt huấn luyện."
   ]
  },
  {
   "cell_type": "code",
   "execution_count": 14,
   "id": "173d640b",
   "metadata": {
    "colab": {
     "base_uri": "https://localhost:8080/"
    },
    "id": "TfDElAgEjLp0",
    "outputId": "051b9dfb-6ea0-4317-80dd-82a5268395ad"
   },
   "outputs": [
    {
     "name": "stdout",
     "output_type": "stream",
     "text": [
      "Mean Fbeta: 0.895 0.034\n"
     ]
    }
   ],
   "source": [
    "from sklearn.model_selection import cross_val_score, RepeatedStratifiedKFold\n",
    "\n",
    "# Xác định KFold\n",
    "cv = RepeatedStratifiedKFold(n_splits=10, n_repeats=3, random_state=1)\n",
    "# Xác định metric cho mô hình\n",
    "metric = make_scorer(fbeta)\n",
    "# Đánh giá mô hình\n",
    "scores = cross_val_score(completed_pl, X_train, y_train, scoring=metric, cv=cv, n_jobs=-1)\n",
    "print('Mean Fbeta: {:.03f} {:.03f}'.format(np.mean(scores), np.std(scores)))"
   ]
  },
  {
   "cell_type": "markdown",
   "id": "9815d7c6",
   "metadata": {
    "id": "udoiOQSPm4BJ"
   },
   "source": [
    "## 6.2.2. Đánh giá nhiều mô hình\n",
    "\n",
    "Chúng ta có thể thực hiện vòng lặp để _đánh giá chéo_ nhiều lớp mô hình khác nhau. Sau đó so sánh phân phối điểm thu được của những lớp mô hình này để tìm ra đâu là mô hình có score lớn nhất."
   ]
  },
  {
   "cell_type": "code",
   "execution_count": 15,
   "id": "5f376ba8",
   "metadata": {
    "id": "McgtJOb8m7VK"
   },
   "outputs": [
    {
     "name": "stderr",
     "output_type": "stream",
     "text": [
      "/home/khanh/miniconda3/envs/deepai-book/lib/python3.9/site-packages/sklearn/neural_network/_multilayer_perceptron.py:692: ConvergenceWarning: Stochastic Optimizer: Maximum iterations (200) reached and the optimization hasn't converged yet.\n",
      "  warnings.warn(\n",
      "/home/khanh/miniconda3/envs/deepai-book/lib/python3.9/site-packages/sklearn/neural_network/_multilayer_perceptron.py:692: ConvergenceWarning: Stochastic Optimizer: Maximum iterations (200) reached and the optimization hasn't converged yet.\n",
      "  warnings.warn(\n",
      "/home/khanh/miniconda3/envs/deepai-book/lib/python3.9/site-packages/sklearn/neural_network/_multilayer_perceptron.py:692: ConvergenceWarning: Stochastic Optimizer: Maximum iterations (200) reached and the optimization hasn't converged yet.\n",
      "  warnings.warn(\n",
      "/home/khanh/miniconda3/envs/deepai-book/lib/python3.9/site-packages/sklearn/neural_network/_multilayer_perceptron.py:692: ConvergenceWarning: Stochastic Optimizer: Maximum iterations (200) reached and the optimization hasn't converged yet.\n",
      "  warnings.warn(\n",
      "/home/khanh/miniconda3/envs/deepai-book/lib/python3.9/site-packages/sklearn/neural_network/_multilayer_perceptron.py:692: ConvergenceWarning: Stochastic Optimizer: Maximum iterations (200) reached and the optimization hasn't converged yet.\n",
      "  warnings.warn(\n",
      "/home/khanh/miniconda3/envs/deepai-book/lib/python3.9/site-packages/sklearn/neural_network/_multilayer_perceptron.py:692: ConvergenceWarning: Stochastic Optimizer: Maximum iterations (200) reached and the optimization hasn't converged yet.\n",
      "  warnings.warn(\n",
      "/home/khanh/miniconda3/envs/deepai-book/lib/python3.9/site-packages/sklearn/neural_network/_multilayer_perceptron.py:692: ConvergenceWarning: Stochastic Optimizer: Maximum iterations (200) reached and the optimization hasn't converged yet.\n",
      "  warnings.warn(\n",
      "/home/khanh/miniconda3/envs/deepai-book/lib/python3.9/site-packages/sklearn/neural_network/_multilayer_perceptron.py:692: ConvergenceWarning: Stochastic Optimizer: Maximum iterations (200) reached and the optimization hasn't converged yet.\n",
      "  warnings.warn(\n"
     ]
    },
    {
     "name": "stderr",
     "output_type": "stream",
     "text": [
      "/home/khanh/miniconda3/envs/deepai-book/lib/python3.9/site-packages/sklearn/neural_network/_multilayer_perceptron.py:692: ConvergenceWarning: Stochastic Optimizer: Maximum iterations (200) reached and the optimization hasn't converged yet.\n",
      "  warnings.warn(\n",
      "/home/khanh/miniconda3/envs/deepai-book/lib/python3.9/site-packages/sklearn/neural_network/_multilayer_perceptron.py:692: ConvergenceWarning: Stochastic Optimizer: Maximum iterations (200) reached and the optimization hasn't converged yet.\n",
      "  warnings.warn(\n",
      "/home/khanh/miniconda3/envs/deepai-book/lib/python3.9/site-packages/sklearn/neural_network/_multilayer_perceptron.py:692: ConvergenceWarning: Stochastic Optimizer: Maximum iterations (200) reached and the optimization hasn't converged yet.\n",
      "  warnings.warn(\n",
      "/home/khanh/miniconda3/envs/deepai-book/lib/python3.9/site-packages/sklearn/neural_network/_multilayer_perceptron.py:692: ConvergenceWarning: Stochastic Optimizer: Maximum iterations (200) reached and the optimization hasn't converged yet.\n",
      "  warnings.warn(\n",
      "/home/khanh/miniconda3/envs/deepai-book/lib/python3.9/site-packages/sklearn/neural_network/_multilayer_perceptron.py:692: ConvergenceWarning: Stochastic Optimizer: Maximum iterations (200) reached and the optimization hasn't converged yet.\n",
      "  warnings.warn(\n",
      "/home/khanh/miniconda3/envs/deepai-book/lib/python3.9/site-packages/sklearn/neural_network/_multilayer_perceptron.py:692: ConvergenceWarning: Stochastic Optimizer: Maximum iterations (200) reached and the optimization hasn't converged yet.\n",
      "  warnings.warn(\n",
      "/home/khanh/miniconda3/envs/deepai-book/lib/python3.9/site-packages/sklearn/neural_network/_multilayer_perceptron.py:692: ConvergenceWarning: Stochastic Optimizer: Maximum iterations (200) reached and the optimization hasn't converged yet.\n",
      "  warnings.warn(\n",
      "/home/khanh/miniconda3/envs/deepai-book/lib/python3.9/site-packages/sklearn/neural_network/_multilayer_perceptron.py:692: ConvergenceWarning: Stochastic Optimizer: Maximum iterations (200) reached and the optimization hasn't converged yet.\n",
      "  warnings.warn(\n"
     ]
    },
    {
     "name": "stderr",
     "output_type": "stream",
     "text": [
      "/home/khanh/miniconda3/envs/deepai-book/lib/python3.9/site-packages/sklearn/neural_network/_multilayer_perceptron.py:692: ConvergenceWarning: Stochastic Optimizer: Maximum iterations (200) reached and the optimization hasn't converged yet.\n",
      "  warnings.warn(\n",
      "/home/khanh/miniconda3/envs/deepai-book/lib/python3.9/site-packages/sklearn/neural_network/_multilayer_perceptron.py:692: ConvergenceWarning: Stochastic Optimizer: Maximum iterations (200) reached and the optimization hasn't converged yet.\n",
      "  warnings.warn(\n",
      "/home/khanh/miniconda3/envs/deepai-book/lib/python3.9/site-packages/sklearn/neural_network/_multilayer_perceptron.py:692: ConvergenceWarning: Stochastic Optimizer: Maximum iterations (200) reached and the optimization hasn't converged yet.\n",
      "  warnings.warn(\n",
      "/home/khanh/miniconda3/envs/deepai-book/lib/python3.9/site-packages/sklearn/neural_network/_multilayer_perceptron.py:692: ConvergenceWarning: Stochastic Optimizer: Maximum iterations (200) reached and the optimization hasn't converged yet.\n",
      "  warnings.warn(\n",
      "/home/khanh/miniconda3/envs/deepai-book/lib/python3.9/site-packages/sklearn/neural_network/_multilayer_perceptron.py:692: ConvergenceWarning: Stochastic Optimizer: Maximum iterations (200) reached and the optimization hasn't converged yet.\n",
      "  warnings.warn(\n",
      "/home/khanh/miniconda3/envs/deepai-book/lib/python3.9/site-packages/sklearn/neural_network/_multilayer_perceptron.py:692: ConvergenceWarning: Stochastic Optimizer: Maximum iterations (200) reached and the optimization hasn't converged yet.\n",
      "  warnings.warn(\n",
      "/home/khanh/miniconda3/envs/deepai-book/lib/python3.9/site-packages/sklearn/neural_network/_multilayer_perceptron.py:692: ConvergenceWarning: Stochastic Optimizer: Maximum iterations (200) reached and the optimization hasn't converged yet.\n",
      "  warnings.warn(\n"
     ]
    },
    {
     "name": "stderr",
     "output_type": "stream",
     "text": [
      "/home/khanh/miniconda3/envs/deepai-book/lib/python3.9/site-packages/sklearn/neural_network/_multilayer_perceptron.py:692: ConvergenceWarning: Stochastic Optimizer: Maximum iterations (200) reached and the optimization hasn't converged yet.\n",
      "  warnings.warn(\n"
     ]
    },
    {
     "name": "stderr",
     "output_type": "stream",
     "text": [
      "/home/khanh/miniconda3/envs/deepai-book/lib/python3.9/site-packages/sklearn/neural_network/_multilayer_perceptron.py:692: ConvergenceWarning: Stochastic Optimizer: Maximum iterations (200) reached and the optimization hasn't converged yet.\n",
      "  warnings.warn(\n",
      "/home/khanh/miniconda3/envs/deepai-book/lib/python3.9/site-packages/sklearn/neural_network/_multilayer_perceptron.py:692: ConvergenceWarning: Stochastic Optimizer: Maximum iterations (200) reached and the optimization hasn't converged yet.\n",
      "  warnings.warn(\n",
      "/home/khanh/miniconda3/envs/deepai-book/lib/python3.9/site-packages/sklearn/neural_network/_multilayer_perceptron.py:692: ConvergenceWarning: Stochastic Optimizer: Maximum iterations (200) reached and the optimization hasn't converged yet.\n",
      "  warnings.warn(\n",
      "/home/khanh/miniconda3/envs/deepai-book/lib/python3.9/site-packages/sklearn/neural_network/_multilayer_perceptron.py:692: ConvergenceWarning: Stochastic Optimizer: Maximum iterations (200) reached and the optimization hasn't converged yet.\n",
      "  warnings.warn(\n",
      "/home/khanh/miniconda3/envs/deepai-book/lib/python3.9/site-packages/sklearn/neural_network/_multilayer_perceptron.py:692: ConvergenceWarning: Stochastic Optimizer: Maximum iterations (200) reached and the optimization hasn't converged yet.\n",
      "  warnings.warn(\n",
      "/home/khanh/miniconda3/envs/deepai-book/lib/python3.9/site-packages/sklearn/neural_network/_multilayer_perceptron.py:692: ConvergenceWarning: Stochastic Optimizer: Maximum iterations (200) reached and the optimization hasn't converged yet.\n",
      "  warnings.warn(\n"
     ]
    }
   ],
   "source": [
    "from sklearn.ensemble import RandomForestClassifier\n",
    "from sklearn.naive_bayes import GaussianNB\n",
    "from sklearn.linear_model import LogisticRegression\n",
    "from sklearn.neighbors import KNeighborsClassifier\n",
    "from sklearn.neural_network import MLPClassifier\n",
    "# list các mô hình được lựa chọn\n",
    "models = [GaussianNB(), LogisticRegression(), KNeighborsClassifier(), MLPClassifier(), RandomForestClassifier()]\n",
    "\n",
    "# Xác định KFold\n",
    "cv = RepeatedStratifiedKFold(n_splits=10, n_repeats=3, random_state=1)\n",
    "\n",
    "all_scores = []\n",
    "# Đánh giá toàn bộ các mô hình trên tập K-Fold đã chia\n",
    "for model in models:\n",
    "  completed_pl = Pipeline(\n",
    "    steps=[(\"preprocessor\", preprocessor), ('classifier', model)]\n",
    "  )\n",
    "\n",
    "  scores = cross_val_score(completed_pl, X_train, y_train, scoring=metric, cv=cv, n_jobs=-1)\n",
    "  all_scores.append(scores)"
   ]
  },
  {
   "cell_type": "markdown",
   "id": "d1b2845a",
   "metadata": {
    "id": "NRJtbeY2QbIz"
   },
   "source": [
    "Tiếp theo ta sẽ vẽ biểu đồ phân phối score giữa các mô hình."
   ]
  },
  {
   "cell_type": "code",
   "execution_count": 16,
   "id": "d30b5b13",
   "metadata": {
    "colab": {
     "base_uri": "https://localhost:8080/",
     "height": 621
    },
    "id": "oofQAvt9q2lu",
    "outputId": "8a1f1bb8-920a-41f1-b41d-7efe789002ca"
   },
   "outputs": [
    {
     "data": {
      "text/plain": [
       "Text(0.5, 1.0, 'Scores Metrics')"
      ]
     },
     "execution_count": 16,
     "metadata": {},
     "output_type": "execute_result"
    },
    {
     "data": {
      "image/png": "[encoded data removed]",
      "text/plain": [
       "<Figure size 1152x576 with 1 Axes>"
      ]
     },
     "metadata": {
      "filenames": {
       "image/png": "/home/khanh/Documents/KhanhBlog/deepai-book/book/_build/jupyter_execute/ch_appendix/appendix_pipeline_42_1.png"
      },
      "needs_background": "light"
     },
     "output_type": "display_data"
    }
   ],
   "source": [
    "import matplotlib.pyplot as plt\n",
    "model_names = ['GaussianNB', 'Logistic', 'KNN', 'MLP', 'RandomForest']\n",
    "\n",
    "# Draw bboxplot \n",
    "plt.figure(figsize=(16, 8))\n",
    "plt.boxplot(all_scores)\n",
    "plt.xlabel('Model', fontsize=16)\n",
    "plt.ylabel('Score', fontsize=16)\n",
    "plt.xticks(np.arange(len(model_names))+1, model_names, rotation=45, fontsize=16)\n",
    "plt.title(\"Scores Metrics\", fontsize=18)"
   ]
  },
  {
   "cell_type": "markdown",
   "id": "e0eaacfe",
   "metadata": {
    "id": "2RrSgYfqPQuL"
   },
   "source": [
    "Nhìn vào biểu đồ ta có thể thấy `RandomForest` là thuật toán có độ chính xác cao nhất khi score giao động trong khoảng từ 0.83 đến 0.95 và trung bình đạt được khoảng 0.9 nên chúng ta sẽ lựa chọn lớp mô hình này để phát triển thành production."
   ]
  },
  {
   "cell_type": "markdown",
   "id": "b6e28d64",
   "metadata": {
    "id": "nffmkDWSn8wm"
   },
   "source": [
    "# 4. GridSearch"
   ]
  },
  {
   "cell_type": "markdown",
   "id": "87b9a9ca",
   "metadata": {},
   "source": [
    "GridSearch là một kỹ thuật giúp tìm kiếm tham số phù hợp cho mô hình đối với một bộ dữ liệu cụ thể. Trong sklearn chúng ta có thể sử dụng `GridSearchCV` để tạo không gian tham số. Để dễ hình dung hơn về GridSearch chúng ta hãy cùng áp dụng chúng trên bộ dữ liệu `German Credit`.\n",
    "\n",
    "Đầu tiên chúng ta sẽ tạo ra một Class `ClassifierfSwitcher` mà thuộc tính `estimator` của nó là một mô hình trong sklearn. Đây là một tham số có thể search được trên gridsearch."
   ]
  },
  {
   "cell_type": "code",
   "execution_count": 17,
   "id": "9ceb742e",
   "metadata": {
    "id": "UkP9ISKotkh7"
   },
   "outputs": [],
   "source": [
    "from sklearn.base import BaseEstimator\n",
    "class ClassifierSwitcher(BaseEstimator):\n",
    "  def __init__(\n",
    "      self, \n",
    "      estimator = RandomForestClassifier(),\n",
    "  ):\n",
    "      \"\"\"\n",
    "      A Custom BaseEstimator that can switch between classifiers.\n",
    "      :param estimator: sklearn object - The classifier\n",
    "      \"\"\" \n",
    "      \n",
    "      self.estimator = estimator\n",
    "\n",
    "\n",
    "  def fit(self, X, y=None, **kwargs):\n",
    "      self.estimator.fit(X, y)\n",
    "      return self\n",
    "\n",
    "\n",
    "  def predict(self, X, y=None):\n",
    "      return self.estimator.predict(X)\n",
    "\n",
    "\n",
    "  def predict_proba(self, X):\n",
    "      return self.estimator.predict_proba(X)\n",
    "\n",
    "\n",
    "  def score(self, X, y):\n",
    "      return self.estimator.score(X, y)"
   ]
  },
  {
   "cell_type": "markdown",
   "id": "788d846a",
   "metadata": {
    "id": "eO4sDJnwlrTu"
   },
   "source": [
    "Tiếp theo chúng ta sẽ kết hợp giữa hai bước tiền xử lý và huấn luyện để tạo thành một pipeline hoàn chỉnh và thực hiện gridsearch trên pipeline này."
   ]
  },
  {
   "cell_type": "code",
   "execution_count": 18,
   "id": "840ab3c6",
   "metadata": {
    "id": "tT4yCJ0RsDal"
   },
   "outputs": [],
   "source": [
    "from sklearn.model_selection import GridSearchCV\n",
    "pipeline = Pipeline(\n",
    "    steps=[(\"pre\", preprocessor), (\"clf\", ClassifierSwitcher())]\n",
    ")"
   ]
  },
  {
   "cell_type": "markdown",
   "id": "dcd94cee",
   "metadata": {
    "id": "m8nSQh3jmUhC"
   },
   "source": [
    "Pipeline sẽ gồm hai bước là `pre` và `clf`. Chúng ta chỉ cần quan tâm tới việc tìm kiếm trên `clf` thông qua các parameters của class `ClassifierSwitcher` như sau:"
   ]
  },
  {
   "cell_type": "code",
   "execution_count": 19,
   "id": "65f6aaa1",
   "metadata": {
    "id": "3u9mJXB-mTiF"
   },
   "outputs": [],
   "source": [
    "parameters = [\n",
    "    {\n",
    "        'clf__estimator': [LogisticRegression()], # SVM if hinge loss / logreg if log loss\n",
    "        'clf__estimator__penalty': ('l2', 'elasticnet', 'l1'),\n",
    "        'clf__estimator__max_iter': [50, 80],\n",
    "        'clf__estimator__tol': [1e-4]\n",
    "    },\n",
    "    {\n",
    "        'clf__estimator': [RandomForestClassifier()],\n",
    "        'clf__estimator__n_estimators': [50, 100],\n",
    "        'clf__estimator__max_depth': [5, 10],\n",
    "        'clf__estimator__criterion': ('gini', 'entropy')\n",
    "    },\n",
    "]"
   ]
  },
  {
   "cell_type": "markdown",
   "id": "4a7fee52",
   "metadata": {
    "id": "EpF6BUfGnHQH"
   },
   "source": [
    "Giải thích một chút: Bạn không hiểu `clf__estimator__penalty` nghĩa là gì phải không? Bởi vì parameters sẽ được thông dịch trước khi đưa vào gridsearch nên dấu `__` ở trên chính là dấu `.` sau khi thông dịch. Như vậy `clf__estimator__penalty` chính là `clf.estimator.penalty`.\n",
    "\n",
    "Tiếp theo ta sẽ thực hiện grid search trên tập train. Quá trình grid search sẽ thực hiện cross validation với k=5 và kết quả để quyết định mô hình tốt nhất là trung bình trên 5 lượt đánh giá theo hàm fbeta."
   ]
  },
  {
   "cell_type": "code",
   "execution_count": 20,
   "id": "c68c76db",
   "metadata": {
    "colab": {
     "base_uri": "https://localhost:8080/"
    },
    "id": "4YFNa1kXoI4n",
    "outputId": "ca12ec2b-89f4-494d-95bc-6833f34d745f"
   },
   "outputs": [
    {
     "name": "stdout",
     "output_type": "stream",
     "text": [
      "Fitting 5 folds for each of 14 candidates, totalling 70 fits\n"
     ]
    },
    {
     "name": "stderr",
     "output_type": "stream",
     "text": [
      "/home/khanh/miniconda3/envs/deepai-book/lib/python3.9/site-packages/sklearn/linear_model/_logistic.py:814: ConvergenceWarning: lbfgs failed to converge (status=1):\n",
      "STOP: TOTAL NO. of ITERATIONS REACHED LIMIT.\n",
      "\n",
      "Increase the number of iterations (max_iter) or scale the data as shown in:\n",
      "    https://scikit-learn.org/stable/modules/preprocessing.html\n",
      "Please also refer to the documentation for alternative solver options:\n",
      "    https://scikit-learn.org/stable/modules/linear_model.html#logistic-regression\n",
      "  n_iter_i = _check_optimize_result(\n",
      "/home/khanh/miniconda3/envs/deepai-book/lib/python3.9/site-packages/sklearn/linear_model/_logistic.py:814: ConvergenceWarning: lbfgs failed to converge (status=1):\n",
      "STOP: TOTAL NO. of ITERATIONS REACHED LIMIT.\n",
      "\n",
      "Increase the number of iterations (max_iter) or scale the data as shown in:\n",
      "    https://scikit-learn.org/stable/modules/preprocessing.html\n",
      "Please also refer to the documentation for alternative solver options:\n",
      "    https://scikit-learn.org/stable/modules/linear_model.html#logistic-regression\n",
      "  n_iter_i = _check_optimize_result(\n",
      "/home/khanh/miniconda3/envs/deepai-book/lib/python3.9/site-packages/sklearn/linear_model/_logistic.py:814: ConvergenceWarning: lbfgs failed to converge (status=1):\n",
      "STOP: TOTAL NO. of ITERATIONS REACHED LIMIT.\n",
      "\n",
      "Increase the number of iterations (max_iter) or scale the data as shown in:\n",
      "    https://scikit-learn.org/stable/modules/preprocessing.html\n",
      "Please also refer to the documentation for alternative solver options:\n",
      "    https://scikit-learn.org/stable/modules/linear_model.html#logistic-regression\n",
      "  n_iter_i = _check_optimize_result(\n",
      "/home/khanh/miniconda3/envs/deepai-book/lib/python3.9/site-packages/sklearn/linear_model/_logistic.py:814: ConvergenceWarning: lbfgs failed to converge (status=1):\n",
      "STOP: TOTAL NO. of ITERATIONS REACHED LIMIT.\n",
      "\n",
      "Increase the number of iterations (max_iter) or scale the data as shown in:\n",
      "    https://scikit-learn.org/stable/modules/preprocessing.html\n",
      "Please also refer to the documentation for alternative solver options:\n",
      "    https://scikit-learn.org/stable/modules/linear_model.html#logistic-regression\n",
      "  n_iter_i = _check_optimize_result(\n",
      "/home/khanh/miniconda3/envs/deepai-book/lib/python3.9/site-packages/sklearn/linear_model/_logistic.py:814: ConvergenceWarning: lbfgs failed to converge (status=1):\n",
      "STOP: TOTAL NO. of ITERATIONS REACHED LIMIT.\n",
      "\n",
      "Increase the number of iterations (max_iter) or scale the data as shown in:\n",
      "    https://scikit-learn.org/stable/modules/preprocessing.html\n",
      "Please also refer to the documentation for alternative solver options:\n",
      "    https://scikit-learn.org/stable/modules/linear_model.html#logistic-regression\n",
      "  n_iter_i = _check_optimize_result(\n"
     ]
    },
    {
     "name": "stderr",
     "output_type": "stream",
     "text": [
      "/home/khanh/miniconda3/envs/deepai-book/lib/python3.9/site-packages/sklearn/model_selection/_validation.py:372: FitFailedWarning: \n",
      "20 fits failed out of a total of 70.\n",
      "The score on these train-test partitions for these parameters will be set to 0.\n",
      "If these failures are not expected, you can try to debug them by setting error_score='raise'.\n",
      "\n",
      "Below are more details about the failures:\n",
      "--------------------------------------------------------------------------------\n",
      "10 fits failed with the following error:\n",
      "Traceback (most recent call last):\n",
      "  File \"/home/khanh/miniconda3/envs/deepai-book/lib/python3.9/site-packages/sklearn/model_selection/_validation.py\", line 681, in _fit_and_score\n",
      "    estimator.fit(X_train, y_train, **fit_params)\n",
      "  File \"/home/khanh/miniconda3/envs/deepai-book/lib/python3.9/site-packages/sklearn/pipeline.py\", line 394, in fit\n",
      "    self._final_estimator.fit(Xt, y, **fit_params_last_step)\n",
      "  File \"/tmp/ipykernel_43027/3350716100.py\", line 16, in fit\n",
      "  File \"/home/khanh/miniconda3/envs/deepai-book/lib/python3.9/site-packages/sklearn/linear_model/_logistic.py\", line 1461, in fit\n",
      "    solver = _check_solver(self.solver, self.penalty, self.dual)\n",
      "  File \"/home/khanh/miniconda3/envs/deepai-book/lib/python3.9/site-packages/sklearn/linear_model/_logistic.py\", line 447, in _check_solver\n",
      "    raise ValueError(\n",
      "ValueError: Solver lbfgs supports only 'l2' or 'none' penalties, got elasticnet penalty.\n",
      "\n",
      "--------------------------------------------------------------------------------\n",
      "10 fits failed with the following error:\n",
      "Traceback (most recent call last):\n",
      "  File \"/home/khanh/miniconda3/envs/deepai-book/lib/python3.9/site-packages/sklearn/model_selection/_validation.py\", line 681, in _fit_and_score\n",
      "    estimator.fit(X_train, y_train, **fit_params)\n",
      "  File \"/home/khanh/miniconda3/envs/deepai-book/lib/python3.9/site-packages/sklearn/pipeline.py\", line 394, in fit\n",
      "    self._final_estimator.fit(Xt, y, **fit_params_last_step)\n",
      "  File \"/tmp/ipykernel_43027/3350716100.py\", line 16, in fit\n",
      "  File \"/home/khanh/miniconda3/envs/deepai-book/lib/python3.9/site-packages/sklearn/linear_model/_logistic.py\", line 1461, in fit\n",
      "    solver = _check_solver(self.solver, self.penalty, self.dual)\n",
      "  File \"/home/khanh/miniconda3/envs/deepai-book/lib/python3.9/site-packages/sklearn/linear_model/_logistic.py\", line 447, in _check_solver\n",
      "    raise ValueError(\n",
      "ValueError: Solver lbfgs supports only 'l2' or 'none' penalties, got l1 penalty.\n",
      "\n",
      "  warnings.warn(some_fits_failed_message, FitFailedWarning)\n"
     ]
    },
    {
     "data": {
      "text/plain": [
       "GridSearchCV(cv=5, error_score=0,\n",
       "             estimator=Pipeline(steps=[('pre',\n",
       "                                        ColumnTransformer(transformers=[('num',\n",
       "                                                                         Pipeline(steps=[('imputer',\n",
       "                                                                                          KNNImputer(n_neighbors=7)),\n",
       "                                                                                         ('scaler',\n",
       "                                                                                          MinMaxScaler())]),\n",
       "                                                                         ['DuMon',\n",
       "                                                                          'CredAmt',\n",
       "                                                                          'InsRt',\n",
       "                                                                          'PreRe',\n",
       "                                                                          'Age',\n",
       "                                                                          'ExstCredit',\n",
       "                                                                          'NoMain']),\n",
       "                                                                        ('cat',\n",
       "                                                                         Pipeline(steps=[('imputer',\n",
       "                                                                                          SimpleImputer(strategy='most_frequent')),\n",
       "                                                                                         ('onehot',\n",
       "                                                                                          OneHotEncoder(...\n",
       "                          'clf__estimator__max_iter': [50, 80],\n",
       "                          'clf__estimator__penalty': ('l2', 'elasticnet', 'l1'),\n",
       "                          'clf__estimator__tol': [0.0001]},\n",
       "                         {'clf__estimator': [RandomForestClassifier(max_depth=5)],\n",
       "                          'clf__estimator__criterion': ('gini', 'entropy'),\n",
       "                          'clf__estimator__max_depth': [5, 10],\n",
       "                          'clf__estimator__n_estimators': [50, 100]}],\n",
       "             return_train_score=True, scoring=make_scorer(fbeta), verbose=3)"
      ]
     },
     "execution_count": 20,
     "metadata": {},
     "output_type": "execute_result"
    }
   ],
   "source": [
    "metric = make_scorer(fbeta)\n",
    "gscv = GridSearchCV(pipeline, parameters, cv=5, n_jobs=12, scoring=metric, return_train_score=True, error_score=0, verbose=3)\n",
    "gscv.fit(X_train, y_train)"
   ]
  },
  {
   "cell_type": "markdown",
   "id": "06cff08c",
   "metadata": {
    "id": "yfOz7FH-QpJn"
   },
   "source": [
    "Để tìm ra mô hình tốt nhất từ `grid search` ta sử dụng `gscv.best_estimator_`."
   ]
  },
  {
   "cell_type": "code",
   "execution_count": 21,
   "id": "787fd735",
   "metadata": {
    "colab": {
     "base_uri": "https://localhost:8080/"
    },
    "id": "jHPaYRFbx9Ie",
    "outputId": "93c6ef65-3c98-4022-a592-91cca6c3f07d"
   },
   "outputs": [
    {
     "data": {
      "text/plain": [
       "Pipeline(steps=[('pre',\n",
       "                 ColumnTransformer(transformers=[('num',\n",
       "                                                  Pipeline(steps=[('imputer',\n",
       "                                                                   KNNImputer(n_neighbors=7)),\n",
       "                                                                  ('scaler',\n",
       "                                                                   MinMaxScaler())]),\n",
       "                                                  ['DuMon', 'CredAmt', 'InsRt',\n",
       "                                                   'PreRe', 'Age', 'ExstCredit',\n",
       "                                                   'NoMain']),\n",
       "                                                 ('cat',\n",
       "                                                  Pipeline(steps=[('imputer',\n",
       "                                                                   SimpleImputer(strategy='most_frequent')),\n",
       "                                                                  ('onehot',\n",
       "                                                                   OneHotEncoder())]),\n",
       "                                                  ['StaAcc', 'CredHis',\n",
       "                                                   'Purpose', 'SavAcc',\n",
       "                                                   'PreEmpl', 'PerSta',\n",
       "                                                   'OthDebtor', 'Property',\n",
       "                                                   'IntPla', 'Housing', 'Job',\n",
       "                                                   'Phone', 'ForWorker'])])),\n",
       "                ('clf',\n",
       "                 ClassifierSwitcher(estimator=RandomForestClassifier(max_depth=5)))])"
      ]
     },
     "execution_count": 21,
     "metadata": {},
     "output_type": "execute_result"
    }
   ],
   "source": [
    "gscv.best_estimator_"
   ]
  },
  {
   "cell_type": "markdown",
   "id": "b867289b",
   "metadata": {
    "id": "YZUnzJGxsWAO"
   },
   "source": [
    "Các tham số tốt nhất."
   ]
  },
  {
   "cell_type": "code",
   "execution_count": 22,
   "id": "e8cf0f86",
   "metadata": {
    "colab": {
     "base_uri": "https://localhost:8080/"
    },
    "id": "6h88ogQMr7Hu",
    "outputId": "5fe425ce-80c5-48cb-d750-abf3b8a3ebee"
   },
   "outputs": [
    {
     "data": {
      "text/plain": [
       "{'clf__estimator': RandomForestClassifier(max_depth=5),\n",
       " 'clf__estimator__criterion': 'gini',\n",
       " 'clf__estimator__max_depth': 5,\n",
       " 'clf__estimator__n_estimators': 100}"
      ]
     },
     "execution_count": 22,
     "metadata": {},
     "output_type": "execute_result"
    }
   ],
   "source": [
    "gscv.best_params_"
   ]
  },
  {
   "cell_type": "markdown",
   "id": "94f503eb",
   "metadata": {
    "id": "1eOUEFGqsYRy"
   },
   "source": [
    "Điểm số cao nhất."
   ]
  },
  {
   "cell_type": "code",
   "execution_count": 23,
   "id": "ea8b4e08",
   "metadata": {
    "colab": {
     "base_uri": "https://localhost:8080/"
    },
    "id": "lzE1bxLZrumt",
    "outputId": "91c53faa-ff83-4071-8e18-87e24f365104"
   },
   "outputs": [
    {
     "data": {
      "text/plain": [
       "0.9253296423054754"
      ]
     },
     "execution_count": 23,
     "metadata": {},
     "output_type": "execute_result"
    }
   ],
   "source": [
    "gscv.best_score_"
   ]
  },
  {
   "cell_type": "markdown",
   "id": "eb6a2456",
   "metadata": {
    "id": "6P8JgfErsjs1"
   },
   "source": [
    "# 5. Summary"
   ]
  },
  {
   "cell_type": "markdown",
   "id": "e2583958",
   "metadata": {},
   "source": [
    "Xây dựng pipeline là một kỹ thuật quan trọng trong quá trình huấn luyện và đánh giá các mô hình machine learning. Nhờ kỹ thuật này chúng ta có thể tự động hoá quá trình phức tạp thành một hệ thống pipeline đơn giản mà có thể trực tiếp dự báo dựa trên dữ liệu thô.\n",
    "\n",
    "Đồng thời qua bài viết các bạn cũng học được cách lựa chọn một số metrics cơ bản trong đánh gía mô hình phân loại và mô hình dự báo và kỹ thuật gridsearch giúp tìm kiếm mô hình trên không gian tham số. Đây là những kiến thức nền tảng rất quan trọng giúp bạn xây dựng và triển khai các bài toán thực tế.\n",
    "\n"
   ]
  },
  {
   "cell_type": "markdown",
   "id": "9e0aaeff",
   "metadata": {
    "id": "SXymcFDouir5"
   },
   "source": [
    "# 6. Exercise"
   ]
  },
  {
   "cell_type": "markdown",
   "id": "cc0a5302",
   "metadata": {},
   "source": [
    "Từ một trong các bộ dữ liệu:\n",
    "\n",
    "* [BreastCancer](https://archive.ics.uci.edu/ml/datasets/Breast+Cancer+Wisconsin+(Diagnostic)) về chuẩn đoán ung thư vú. \n",
    "* [diabetes](https://archive.ics.uci.edu/ml/datasets/diabetes) chuẩn đoán bệnh tiểu đường.\n",
    "* [hmeq](https://www.kaggle.com/ajay1735/hmeq-data) phân loại hồ sơ cho vay mua nhà.\n",
    "* [BonstonHousing](https://github.com/phamdinhkhanh/datasets/blob/master/BostonHousing.csv) dự báo giá nhà ở Bonston. \n",
    "* [churn customer](https://archive.ics.uci.edu/ml/datasets/Iranian+Churn+Dataset) dự đoán khách hàng rời bỏ.\n",
    "\n",
    "Bạn hãy thực hiện các bài tập sau: \n",
    "\n",
    "1. Thống kê mô tả và vẽ biểu đồ phân phối trên các trường của tập dữ liệu này. Đánh giá sơ bộ về tính chất phân phối của các biến.\n",
    "\n",
    "2. Hãy tạo thành một pipeline hoàn chỉnh để xử lý dữ liệu từ thô sang tinh.\n",
    "\n",
    "3. Phân chia tập train/test và lựa chọn metric cho bài toán.\n",
    "\n",
    "4. Lựa chọn một lớp mô hình phù hợp, thực hiện cross validation để huấn luyện và đánh giá mô hình đó trên tập train.\n",
    "\n",
    "5. Triển khai lại quá trình ở bài 4 trên nhiều lớp mô hình khác nhau.\n",
    "\n",
    "6. Vẽ biểu đồ thể hiện kết quả của các mô hình và Kết luận đâu là mô hình tốt nhất. \n",
    "\n",
    "7. Dựa vào lớp mô hình tốt nhất được lựa chọn, thực hiện grid search trên không gian tham số của nó."
   ]
  },
  {
   "cell_type": "markdown",
   "id": "c2e30d57",
   "metadata": {
    "id": "1stx1xDDn-sa"
   },
   "source": [
    "# 7. Reference"
   ]
  },
  {
   "cell_type": "markdown",
   "id": "9751c8a8",
   "metadata": {},
   "source": [
    "1. [sklearn pipeline](https://scikit-learn.org/stable/modules/generated/sklearn.pipeline.Pipeline.html)\n",
    "2. [hands on tutorial ML Pipeline](https://analyticsindiamag.com/hands-on-tutorial-on-machine-learning-pipelines-with-scikit-learn/)\n",
    "3. [pipeline đơn giản cho cuộc thi titanic](https://machinelearningcoban.com/tabml_book/ch_intro/titanic_pipeline.html)\n",
    "4. [Simplified Mixed Feature Type Preprocessing in Scikit-Learn with Pipelines](https://www.kdnuggets.com/2020/06/simplifying-mixed-feature-type-preprocessing-scikit-learn-pipelines.html)\n",
    "5. [Đánh giá mô hình phân loại trong ML - khanhblog](https://phamdinhkhanh.github.io/2020/08/13/ModelMetric.html)\n",
    "6. [managing machine learning workflows scikit learn pipelines](https://www.kdnuggets.com/2017/12/managing-machine-learning-workflows-scikit-learn-pipelines-part-1.html)"
   ]
  }
 ],
 "metadata": {
  "jupytext": {
   "text_representation": {
    "extension": ".md",
    "format_name": "myst",
    "format_version": 0.12,
    "jupytext_version": "1.8.2"
   }
  },
  "kernelspec": {
   "display_name": "Python 3",
   "name": "python3"
  },
  "language_info": {
   "codemirror_mode": {
    "name": "ipython",
    "version": 3
   },
   "file_extension": ".py",
   "mimetype": "text/x-python",
   "name": "python",
   "nbconvert_exporter": "python",
   "pygments_lexer": "ipython3",
   "version": "3.8.8"
  },
  "source_map": [
   11,
   15,
   20,
   53,
   57,
   87,
   105,
   109,
   119,
   125,
   136,
   140,
   150,
   194,
   198,
   202,
   237,
   241,
   262,
   282,
   286,
   298,
   304,
   312,
   325,
   337,
   343,
   355,
   359,
   365,
   391,
   395,
   406,
   419,
   440,
   479,
   488,
   500,
   508,
   526,
   532,
   556,
   560,
   580,
   584,
   592,
   626,
   630,
   639,
   643,
   662,
   668,
   680,
   684,
   694,
   698,
   708,
   712,
   722,
   732,
   760
  ]
 },
 "nbformat": 4,
 "nbformat_minor": 5
}
