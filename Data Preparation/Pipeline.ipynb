{
 "cells": [
  {
   "cell_type": "markdown",
   "id": "98013001",
   "metadata": {},
   "source": [
    "# 1. Automated Pipeline"
   ]
  },
  {
   "cell_type": "markdown",
   "id": "fc623719",
   "metadata": {},
   "source": [
    "![](https://imgur.com/vKvZapp.png)"
   ]
  },
  {
   "cell_type": "markdown",
   "id": "559bcdb9",
   "metadata": {},
   "source": [
    "# 2. Design Pipeline"
   ]
  },
  {
   "cell_type": "markdown",
   "id": "ffe02680",
   "metadata": {
    "id": "EYCd4JN3lKcu"
   },
   "source": [
    "## 2.1. Data German Credit"
   ]
  },
  {
   "cell_type": "markdown",
   "id": "57b43681",
   "metadata": {
    "id": "sJmSo7cYd4ii"
   },
   "source": [
    "German credit is a dataset of the credit history of 1000 different accounts. Our goal is to use this credit history to predict the likelihood that a customer will repay a loan. The data set includes 20 input variables, including 7 continuous variables (numeric) and 13 categorical variables.\n",
    "\n",
    "The target variable (the column `Response` in the last position) has the value 1 for Good customers and 2 for Bad customers. Good customer is default customer and we call it Negative Class, while Bad customer is the opposite case and is Positive class.\n",
    "\n",
    "This is an unbalanced dataset when the Good label (Negative) accounts for 70% and the Bad label only 30% (Positive)."
   ]
  },
  {
   "cell_type": "markdown",
   "id": "23ad55c6",
   "metadata": {},
   "source": [
    "### Overview"
   ]
  },
  {
   "cell_type": "code",
   "execution_count": 27,
   "id": "9f37e064",
   "metadata": {},
   "outputs": [],
   "source": [
    "# Import the libraries\n",
    "import pandas as pd\n",
    "import numpy as np\n",
    "import seaborn as sns\n",
    "import matplotlib.pyplot as plt"
   ]
  },
  {
   "cell_type": "code",
   "execution_count": 28,
   "id": "d5cc2377",
   "metadata": {
    "colab": {
     "base_uri": "https://localhost:8080/",
     "height": 224
    },
    "id": "Q4jnogs_Yqje",
    "outputId": "23b39d4f-c78e-4d65-8894-e2bf93c2850f"
   },
   "outputs": [
    {
     "data": {
      "text/html": [
       "<div>\n",
       "<style scoped>\n",
       "    .dataframe tbody tr th:only-of-type {\n",
       "        vertical-align: middle;\n",
       "    }\n",
       "\n",
       "    .dataframe tbody tr th {\n",
       "        vertical-align: top;\n",
       "    }\n",
       "\n",
       "    .dataframe thead th {\n",
       "        text-align: right;\n",
       "    }\n",
       "</style>\n",
       "<table border=\"1\" class=\"dataframe\">\n",
       "  <thead>\n",
       "    <tr style=\"text-align: right;\">\n",
       "      <th></th>\n",
       "      <th>StaAcc</th>\n",
       "      <th>DuMon</th>\n",
       "      <th>CredHis</th>\n",
       "      <th>Purpose</th>\n",
       "      <th>CredAmt</th>\n",
       "      <th>SavAcc</th>\n",
       "      <th>PreEmpl</th>\n",
       "      <th>InsRt</th>\n",
       "      <th>PerSta</th>\n",
       "      <th>OthDebtor</th>\n",
       "      <th>...</th>\n",
       "      <th>Property</th>\n",
       "      <th>Age</th>\n",
       "      <th>IntPla</th>\n",
       "      <th>Housing</th>\n",
       "      <th>ExstCredit</th>\n",
       "      <th>Job</th>\n",
       "      <th>NoMain</th>\n",
       "      <th>Phone</th>\n",
       "      <th>ForWorker</th>\n",
       "      <th>Response</th>\n",
       "    </tr>\n",
       "  </thead>\n",
       "  <tbody>\n",
       "    <tr>\n",
       "      <th>0</th>\n",
       "      <td>A11</td>\n",
       "      <td>6</td>\n",
       "      <td>A34</td>\n",
       "      <td>A43</td>\n",
       "      <td>1169</td>\n",
       "      <td>A65</td>\n",
       "      <td>A75</td>\n",
       "      <td>4</td>\n",
       "      <td>A93</td>\n",
       "      <td>A101</td>\n",
       "      <td>...</td>\n",
       "      <td>A121</td>\n",
       "      <td>67</td>\n",
       "      <td>A143</td>\n",
       "      <td>A152</td>\n",
       "      <td>2</td>\n",
       "      <td>A173</td>\n",
       "      <td>1</td>\n",
       "      <td>A192</td>\n",
       "      <td>A201</td>\n",
       "      <td>1</td>\n",
       "    </tr>\n",
       "    <tr>\n",
       "      <th>1</th>\n",
       "      <td>A12</td>\n",
       "      <td>48</td>\n",
       "      <td>A32</td>\n",
       "      <td>A43</td>\n",
       "      <td>5951</td>\n",
       "      <td>A61</td>\n",
       "      <td>A73</td>\n",
       "      <td>2</td>\n",
       "      <td>A92</td>\n",
       "      <td>A101</td>\n",
       "      <td>...</td>\n",
       "      <td>A121</td>\n",
       "      <td>22</td>\n",
       "      <td>A143</td>\n",
       "      <td>A152</td>\n",
       "      <td>1</td>\n",
       "      <td>A173</td>\n",
       "      <td>1</td>\n",
       "      <td>A191</td>\n",
       "      <td>A201</td>\n",
       "      <td>2</td>\n",
       "    </tr>\n",
       "    <tr>\n",
       "      <th>2</th>\n",
       "      <td>A14</td>\n",
       "      <td>12</td>\n",
       "      <td>A34</td>\n",
       "      <td>A46</td>\n",
       "      <td>2096</td>\n",
       "      <td>A61</td>\n",
       "      <td>A74</td>\n",
       "      <td>2</td>\n",
       "      <td>A93</td>\n",
       "      <td>A101</td>\n",
       "      <td>...</td>\n",
       "      <td>A121</td>\n",
       "      <td>49</td>\n",
       "      <td>A143</td>\n",
       "      <td>A152</td>\n",
       "      <td>1</td>\n",
       "      <td>A172</td>\n",
       "      <td>2</td>\n",
       "      <td>A191</td>\n",
       "      <td>A201</td>\n",
       "      <td>1</td>\n",
       "    </tr>\n",
       "    <tr>\n",
       "      <th>3</th>\n",
       "      <td>A11</td>\n",
       "      <td>42</td>\n",
       "      <td>A32</td>\n",
       "      <td>A42</td>\n",
       "      <td>7882</td>\n",
       "      <td>A61</td>\n",
       "      <td>A74</td>\n",
       "      <td>2</td>\n",
       "      <td>A93</td>\n",
       "      <td>A103</td>\n",
       "      <td>...</td>\n",
       "      <td>A122</td>\n",
       "      <td>45</td>\n",
       "      <td>A143</td>\n",
       "      <td>A153</td>\n",
       "      <td>1</td>\n",
       "      <td>A173</td>\n",
       "      <td>2</td>\n",
       "      <td>A191</td>\n",
       "      <td>A201</td>\n",
       "      <td>1</td>\n",
       "    </tr>\n",
       "    <tr>\n",
       "      <th>4</th>\n",
       "      <td>A11</td>\n",
       "      <td>24</td>\n",
       "      <td>A33</td>\n",
       "      <td>A40</td>\n",
       "      <td>4870</td>\n",
       "      <td>A61</td>\n",
       "      <td>A73</td>\n",
       "      <td>3</td>\n",
       "      <td>A93</td>\n",
       "      <td>A101</td>\n",
       "      <td>...</td>\n",
       "      <td>A124</td>\n",
       "      <td>53</td>\n",
       "      <td>A143</td>\n",
       "      <td>A153</td>\n",
       "      <td>2</td>\n",
       "      <td>A173</td>\n",
       "      <td>2</td>\n",
       "      <td>A191</td>\n",
       "      <td>A201</td>\n",
       "      <td>2</td>\n",
       "    </tr>\n",
       "  </tbody>\n",
       "</table>\n",
       "<p>5 rows × 21 columns</p>\n",
       "</div>"
      ],
      "text/plain": [
       "  StaAcc  DuMon CredHis Purpose  CredAmt SavAcc PreEmpl  InsRt PerSta  \\\n",
       "0    A11      6     A34     A43     1169    A65     A75      4    A93   \n",
       "1    A12     48     A32     A43     5951    A61     A73      2    A92   \n",
       "2    A14     12     A34     A46     2096    A61     A74      2    A93   \n",
       "3    A11     42     A32     A42     7882    A61     A74      2    A93   \n",
       "4    A11     24     A33     A40     4870    A61     A73      3    A93   \n",
       "\n",
       "  OthDebtor  ...  Property Age  IntPla Housing ExstCredit   Job NoMain  Phone  \\\n",
       "0      A101  ...      A121  67    A143    A152          2  A173      1   A192   \n",
       "1      A101  ...      A121  22    A143    A152          1  A173      1   A191   \n",
       "2      A101  ...      A121  49    A143    A152          1  A172      2   A191   \n",
       "3      A103  ...      A122  45    A143    A153          1  A173      2   A191   \n",
       "4      A101  ...      A124  53    A143    A153          2  A173      2   A191   \n",
       "\n",
       "  ForWorker Response  \n",
       "0      A201        1  \n",
       "1      A201        2  \n",
       "2      A201        1  \n",
       "3      A201        1  \n",
       "4      A201        2  \n",
       "\n",
       "[5 rows x 21 columns]"
      ]
     },
     "execution_count": 28,
     "metadata": {},
     "output_type": "execute_result"
    }
   ],
   "source": [
    "import pandas as pd\n",
    "\n",
    "# Read Data CSV\n",
    "# Header = None -> Pandas automatically assign the FIRST ROW OF DF (which is the actual column names) to the FIRST ROW (hence your columns no longer have names)\n",
    "# Header = 0 -> Pandas first deletes column names (header: row 1) and then assign new column names to them (only if you pass names = [........] while loading your file).\n",
    "\n",
    "df = pd.read_csv(\"http://archive.ics.uci.edu/ml/machine-learning-databases/statlog/german/german.data\", \n",
    "                 header=None,names=['StaAcc', 'DuMon', 'CredHis', 'Purpose', 'CredAmt', 'SavAcc', \\\n",
    "                                     'PreEmpl', 'InsRt', 'PerSta', 'OthDebtor', 'PreRe', 'Property', \\\n",
    "                                     'Age', 'IntPla', 'Housing', 'ExstCredit', 'Job', 'NoMain', 'Phone', 'ForWorker', \"Response\"],\n",
    "                 index_col = None, sep=\" \")\n",
    "df.head()"
   ]
  },
  {
   "cell_type": "code",
   "execution_count": 29,
   "id": "2a22b927",
   "metadata": {
    "colab": {
     "base_uri": "https://localhost:8080/"
    },
    "id": "mR5Ie1MmfhVL",
    "outputId": "91ed14e5-eced-4d97-8257-ccfdffd8d101"
   },
   "outputs": [
    {
     "name": "stdout",
     "output_type": "stream",
     "text": [
      "<class 'pandas.core.frame.DataFrame'>\n",
      "RangeIndex: 1000 entries, 0 to 999\n",
      "Data columns (total 21 columns):\n",
      " #   Column      Non-Null Count  Dtype \n",
      "---  ------      --------------  ----- \n",
      " 0   StaAcc      1000 non-null   object\n",
      " 1   DuMon       1000 non-null   int64 \n",
      " 2   CredHis     1000 non-null   object\n",
      " 3   Purpose     1000 non-null   object\n",
      " 4   CredAmt     1000 non-null   int64 \n",
      " 5   SavAcc      1000 non-null   object\n",
      " 6   PreEmpl     1000 non-null   object\n",
      " 7   InsRt       1000 non-null   int64 \n",
      " 8   PerSta      1000 non-null   object\n",
      " 9   OthDebtor   1000 non-null   object\n",
      " 10  PreRe       1000 non-null   int64 \n",
      " 11  Property    1000 non-null   object\n",
      " 12  Age         1000 non-null   int64 \n",
      " 13  IntPla      1000 non-null   object\n",
      " 14  Housing     1000 non-null   object\n",
      " 15  ExstCredit  1000 non-null   int64 \n",
      " 16  Job         1000 non-null   object\n",
      " 17  NoMain      1000 non-null   int64 \n",
      " 18  Phone       1000 non-null   object\n",
      " 19  ForWorker   1000 non-null   object\n",
      " 20  Response    1000 non-null   int64 \n",
      "dtypes: int64(8), object(13)\n",
      "memory usage: 164.2+ KB\n"
     ]
    }
   ],
   "source": [
    "# Info\n",
    "df.info()"
   ]
  },
  {
   "cell_type": "code",
   "execution_count": 30,
   "id": "634f8850",
   "metadata": {
    "colab": {
     "base_uri": "https://localhost:8080/",
     "height": 297
    },
    "id": "s0QloWR9qKyg",
    "outputId": "77533feb-9099-4a02-f72c-bf4c7c86df1d"
   },
   "outputs": [
    {
     "data": {
      "text/html": [
       "<div>\n",
       "<style scoped>\n",
       "    .dataframe tbody tr th:only-of-type {\n",
       "        vertical-align: middle;\n",
       "    }\n",
       "\n",
       "    .dataframe tbody tr th {\n",
       "        vertical-align: top;\n",
       "    }\n",
       "\n",
       "    .dataframe thead th {\n",
       "        text-align: right;\n",
       "    }\n",
       "</style>\n",
       "<table border=\"1\" class=\"dataframe\">\n",
       "  <thead>\n",
       "    <tr style=\"text-align: right;\">\n",
       "      <th></th>\n",
       "      <th>DuMon</th>\n",
       "      <th>CredAmt</th>\n",
       "      <th>InsRt</th>\n",
       "      <th>PreRe</th>\n",
       "      <th>Age</th>\n",
       "      <th>ExstCredit</th>\n",
       "      <th>NoMain</th>\n",
       "      <th>Response</th>\n",
       "    </tr>\n",
       "  </thead>\n",
       "  <tbody>\n",
       "    <tr>\n",
       "      <th>count</th>\n",
       "      <td>1000.000000</td>\n",
       "      <td>1000.000000</td>\n",
       "      <td>1000.000000</td>\n",
       "      <td>1000.000000</td>\n",
       "      <td>1000.000000</td>\n",
       "      <td>1000.000000</td>\n",
       "      <td>1000.000000</td>\n",
       "      <td>1000.000000</td>\n",
       "    </tr>\n",
       "    <tr>\n",
       "      <th>mean</th>\n",
       "      <td>20.903000</td>\n",
       "      <td>3271.258000</td>\n",
       "      <td>2.973000</td>\n",
       "      <td>2.845000</td>\n",
       "      <td>35.546000</td>\n",
       "      <td>1.407000</td>\n",
       "      <td>1.155000</td>\n",
       "      <td>1.300000</td>\n",
       "    </tr>\n",
       "    <tr>\n",
       "      <th>std</th>\n",
       "      <td>12.058814</td>\n",
       "      <td>2822.736876</td>\n",
       "      <td>1.118715</td>\n",
       "      <td>1.103718</td>\n",
       "      <td>11.375469</td>\n",
       "      <td>0.577654</td>\n",
       "      <td>0.362086</td>\n",
       "      <td>0.458487</td>\n",
       "    </tr>\n",
       "    <tr>\n",
       "      <th>min</th>\n",
       "      <td>4.000000</td>\n",
       "      <td>250.000000</td>\n",
       "      <td>1.000000</td>\n",
       "      <td>1.000000</td>\n",
       "      <td>19.000000</td>\n",
       "      <td>1.000000</td>\n",
       "      <td>1.000000</td>\n",
       "      <td>1.000000</td>\n",
       "    </tr>\n",
       "    <tr>\n",
       "      <th>25%</th>\n",
       "      <td>12.000000</td>\n",
       "      <td>1365.500000</td>\n",
       "      <td>2.000000</td>\n",
       "      <td>2.000000</td>\n",
       "      <td>27.000000</td>\n",
       "      <td>1.000000</td>\n",
       "      <td>1.000000</td>\n",
       "      <td>1.000000</td>\n",
       "    </tr>\n",
       "    <tr>\n",
       "      <th>50%</th>\n",
       "      <td>18.000000</td>\n",
       "      <td>2319.500000</td>\n",
       "      <td>3.000000</td>\n",
       "      <td>3.000000</td>\n",
       "      <td>33.000000</td>\n",
       "      <td>1.000000</td>\n",
       "      <td>1.000000</td>\n",
       "      <td>1.000000</td>\n",
       "    </tr>\n",
       "    <tr>\n",
       "      <th>75%</th>\n",
       "      <td>24.000000</td>\n",
       "      <td>3972.250000</td>\n",
       "      <td>4.000000</td>\n",
       "      <td>4.000000</td>\n",
       "      <td>42.000000</td>\n",
       "      <td>2.000000</td>\n",
       "      <td>1.000000</td>\n",
       "      <td>2.000000</td>\n",
       "    </tr>\n",
       "    <tr>\n",
       "      <th>max</th>\n",
       "      <td>72.000000</td>\n",
       "      <td>18424.000000</td>\n",
       "      <td>4.000000</td>\n",
       "      <td>4.000000</td>\n",
       "      <td>75.000000</td>\n",
       "      <td>4.000000</td>\n",
       "      <td>2.000000</td>\n",
       "      <td>2.000000</td>\n",
       "    </tr>\n",
       "  </tbody>\n",
       "</table>\n",
       "</div>"
      ],
      "text/plain": [
       "             DuMon       CredAmt        InsRt        PreRe          Age  \\\n",
       "count  1000.000000   1000.000000  1000.000000  1000.000000  1000.000000   \n",
       "mean     20.903000   3271.258000     2.973000     2.845000    35.546000   \n",
       "std      12.058814   2822.736876     1.118715     1.103718    11.375469   \n",
       "min       4.000000    250.000000     1.000000     1.000000    19.000000   \n",
       "25%      12.000000   1365.500000     2.000000     2.000000    27.000000   \n",
       "50%      18.000000   2319.500000     3.000000     3.000000    33.000000   \n",
       "75%      24.000000   3972.250000     4.000000     4.000000    42.000000   \n",
       "max      72.000000  18424.000000     4.000000     4.000000    75.000000   \n",
       "\n",
       "        ExstCredit       NoMain     Response  \n",
       "count  1000.000000  1000.000000  1000.000000  \n",
       "mean      1.407000     1.155000     1.300000  \n",
       "std       0.577654     0.362086     0.458487  \n",
       "min       1.000000     1.000000     1.000000  \n",
       "25%       1.000000     1.000000     1.000000  \n",
       "50%       1.000000     1.000000     1.000000  \n",
       "75%       2.000000     1.000000     2.000000  \n",
       "max       4.000000     2.000000     2.000000  "
      ]
     },
     "execution_count": 30,
     "metadata": {},
     "output_type": "execute_result"
    }
   ],
   "source": [
    "# Describe statistics\n",
    "df.describe()"
   ]
  },
  {
   "cell_type": "markdown",
   "id": "12e55090",
   "metadata": {
    "id": "awpnFB21wAOQ"
   },
   "source": [
    "Preliminary descriptive statistics show that the variables differ by large units. The average low is 1.155, and the highest is up to 3271.258. Therefore, it is likely that we will need to normalize the variables to remove unit differences before building the model."
   ]
  },
  {
   "cell_type": "markdown",
   "id": "3b116ebd",
   "metadata": {},
   "source": [
    "## 2.2. Distributed Variables"
   ]
  },
  {
   "cell_type": "markdown",
   "id": "ca847101",
   "metadata": {},
   "source": [
    "### 2.1.2.1. Continuous Variable"
   ]
  },
  {
   "cell_type": "code",
   "execution_count": 32,
   "id": "b00d833d",
   "metadata": {},
   "outputs": [
    {
     "data": {
      "text/plain": [
       "Index(['DuMon', 'CredAmt', 'InsRt', 'PreRe', 'Age', 'ExstCredit', 'NoMain',\n",
       "       'Response'],\n",
       "      dtype='object')"
      ]
     },
     "execution_count": 32,
     "metadata": {},
     "output_type": "execute_result"
    }
   ],
   "source": [
    "# Select dtype is float/int to find numeric var to plot \n",
    "numeric_cols = df.select_dtypes(include=['float','int']).columns\n",
    "numeric_cols"
   ]
  },
  {
   "cell_type": "code",
   "execution_count": 31,
   "id": "e15bab12",
   "metadata": {
    "colab": {
     "base_uri": "https://localhost:8080/",
     "height": 910
    },
    "id": "NANc1ciCyNm5",
    "outputId": "0ec85f62-72b1-4a2e-d001-1745403e4514"
   },
   "outputs": [
    {
     "name": "stdout",
     "output_type": "stream",
     "text": [
      "Number of numeric field:  8\n"
     ]
    }
   ],
   "source": [
    "import warnings\n",
    "warnings.simplefilter(action='ignore', category=FutureWarning)\n",
    "\n",
    "# Destiny Plot (Histogram for continuous var (use bins) with KDE: Kernel Density Estimate)\n",
    "def _plot_numeric_classes(df, col, bins = 10): #default bins = 10\n",
    "    sns.distplot(df[col], bins = bins)\n",
    "\n",
    "# Function distributed numeric for each graph \n",
    "def _distribution_numeric(df, numeric_cols, row = 3, col = 3, figsize = (15, 15), bins = 10):\n",
    "    # numeric_cols: list columns \n",
    "    # row: number of rows in grid graph (this case 3x3)\n",
    "    # col: number of columns in grid graph (this case 3x3)\n",
    "    # bins: number of bins divided in distribution diagram\n",
    "\n",
    "    # Print number of graph \n",
    "    print('Number of numeric field: ', len(numeric_cols))\n",
    "\n",
    "    # An assert statement checks whether a condition is true. \n",
    "    # True -> keep running. \n",
    "    # False -> return AssertionError -> stop executing.\n",
    "    assert row * (col-1) < len(numeric_cols)\n",
    "\n",
    "    # Size Figure\n",
    "    plt.figure(figsize = figsize)\n",
    "\n",
    "    # Distributed var\n",
    "    for i in range(1, len(numeric_cols)+1):\n",
    "      try:\n",
    "        plt.subplot(row, col, i)                                      # Arrange to order of grid graph\n",
    "        _plot_numeric_classes(df, numeric_cols[i-1], bins = bins)     # Applied destiny for each num_col \n",
    "        plt.title(numeric_cols[i-1])                                  # Title\n",
    "      except:\n",
    "        print('Error {}'.format(numeric_cols[i-1]))\n",
    "        break\n",
    "\n",
    "# Run\n",
    "_distribution_numeric(df, numeric_cols)"
   ]
  },
  {
   "cell_type": "markdown",
   "id": "b0369b90",
   "metadata": {},
   "source": [
    "### 2.1.2.2. Category Variable"
   ]
  },
  {
   "cell_type": "code",
   "execution_count": 33,
   "id": "7cbcf058",
   "metadata": {
    "colab": {
     "base_uri": "https://localhost:8080/",
     "height": 810
    },
    "id": "JbtnKEaJCzhy",
    "outputId": "41239ba5-7a8f-45d2-b83d-2b751c53e2a3"
   },
   "outputs": [
    {
     "name": "stdout",
     "output_type": "stream",
     "text": [
      "Number of category field:  13\n"
     ]
    }
   ],
   "source": [
    "# Choose column with type = object\n",
    "cate_cols = df.select_dtypes('object').columns\n",
    "\n",
    "# Function plot 1 bar chart\n",
    "def _plot_bar_classes(df, cols):\n",
    "    df[cols].value_counts().plot.bar()\n",
    "\n",
    "# Function distribution var for some charts\n",
    "def _distribution_cate(df, cate_cols, row = 1, col = 2, figsize = (20, 5)):\n",
    "  print('Number of category field: ', len(cate_cols)) \n",
    "  # Size figure\n",
    "  plt.figure(figsize = figsize)\n",
    "\n",
    "  # Distributed var\n",
    "  for i in range(1, len(cate_cols)+1, 1):\n",
    "    try:\n",
    "      plt.subplot(row, col, i)\n",
    "      _plot_bar_classes(df, cate_cols[i-1])\n",
    "      plt.title(cate_cols[i-1])\n",
    "    except:\n",
    "      break\n",
    "\n",
    "_distribution_cate(df, cate_cols, row = 4, col = 4, figsize = (30, 16))"
   ]
  },
  {
   "cell_type": "markdown",
   "id": "2dc40c12",
   "metadata": {
    "id": "55Wo9wEYHoTK"
   },
   "source": [
    "We see many labels in the categorical variable with minimal observations. Empirically, minority labels can be specific to an output label. So we can further investigate how the GOOD/BAD ratio is different in these labels. Their evaluation results can help us draw some valuable conclusions for label classification."
   ]
  },
  {
   "cell_type": "markdown",
   "id": "21fa3c07",
   "metadata": {
    "id": "BVec93GYHfRC"
   },
   "source": [
    "## 2.3. Train, Val & Test Set"
   ]
  },
  {
   "cell_type": "code",
   "execution_count": 34,
   "id": "0a0007da",
   "metadata": {
    "colab": {
     "base_uri": "https://localhost:8080/"
    },
    "id": "MAtfTW76gN8V",
    "outputId": "692ffbba-98eb-4faf-a1c0-673c351eef57"
   },
   "outputs": [],
   "source": [
    "from sklearn.model_selection import train_test_split\n",
    "\n",
    "# Train/Test = 80/20\n",
    "df_train, df_test = train_test_split(df, test_size=0.2, random_state=42, stratify = df['Response'])  # startify: Balanced Good/Bad for train & test set\n",
    "X_train = df_train.copy()\n",
    "y_train = X_train.pop(\"Response\")\n",
    "\n",
    "X_test = df_test.copy()\n",
    "y_test = X_test.pop(\"Response\") # Pop return value remove > y_test in [1,2]"
   ]
  },
  {
   "cell_type": "code",
   "execution_count": 35,
   "id": "59e0e0fe",
   "metadata": {},
   "outputs": [
    {
     "name": "stdout",
     "output_type": "stream",
     "text": [
      "(800, 20) (800,)\n",
      "(200, 20) (200,)\n"
     ]
    }
   ],
   "source": [
    "print(X_train.shape, y_train.shape)\n",
    "print(X_test.shape, y_test.shape)"
   ]
  },
  {
   "cell_type": "markdown",
   "id": "1e057377",
   "metadata": {
    "id": "-WAdpmDhNR4P"
   },
   "source": [
    "## 2.4. Preprocessing Model"
   ]
  },
  {
   "cell_type": "markdown",
   "id": "f0fa5c88",
   "metadata": {},
   "source": [
    "* **Encoding categorical features** (`OneHotEncoder`).\n",
    "  \n",
    "* **Processing missing data** (`SimpleImputer`)\n",
    "  \n",
    "* **Removing outlier** (`MinMaxScaler`)"
   ]
  },
  {
   "cell_type": "markdown",
   "id": "d4286397",
   "metadata": {
    "id": "aQUD_n-AVw2Q"
   },
   "source": [
    "### Separate processing for continuous and categorical variables "
   ]
  },
  {
   "cell_type": "markdown",
   "id": "19f59c6a",
   "metadata": {},
   "source": [
    "Because continuous variables and categorical variables have different properties, it is possible to train the model on it directly for continuous variables. We will need to encode categorical variables into an arithmetic variable before training. This will require a separate processing pipeline for each type of variable. To build a pipeline in sklearn, we use the `Pipeline()` function. Inside this function is a list of steps to be processed in sequence."
   ]
  },
  {
   "cell_type": "code",
   "execution_count": 36,
   "id": "5cbbfbc6",
   "metadata": {
    "id": "I2urH58vi9nK"
   },
   "outputs": [],
   "source": [
    "# List names of continuous & category vars\n",
    "cat_names = list(X_train.select_dtypes('object').columns)\n",
    "num_names = list(X_train.select_dtypes(['float', 'int']).columns)"
   ]
  },
  {
   "cell_type": "code",
   "execution_count": 37,
   "id": "bde63f05",
   "metadata": {
    "id": "gNueMDY-dRlk"
   },
   "outputs": [],
   "source": [
    "from sklearn.pipeline import Pipeline\n",
    "from sklearn.impute import KNNImputer, SimpleImputer\n",
    "from sklearn.preprocessing import OneHotEncoder, MinMaxScaler\n",
    "\n",
    "# Pipeline process for category variable\n",
    "cat_pl= Pipeline(\n",
    "    steps=[('imputer', SimpleImputer(strategy='most_frequent')),    # Imputation transformer for completing missing values\n",
    "           ('onehot', OneHotEncoder())])                            # Encode categorical features as a one-hot numeric array.\n",
    "\n",
    "# Pipeline process for continuous variable\n",
    "num_pl = Pipeline(\n",
    "    steps=[('imputer', KNNImputer(n_neighbors=7)),                 # Imputation for completing missing values using kNN\n",
    "           ('scaler', MinMaxScaler())])                            # Process noisy data by MinMax scaler,\n",
    "                                                                   # Transform features by scaling each feature to a given range"
   ]
  },
  {
   "cell_type": "markdown",
   "id": "b82bac90",
   "metadata": {
    "id": "1dHF2QqrxdPb"
   },
   "source": [
    "The steps of `Pipeline` are a tuple of two elements. The first element is the name of the processing step, and the second element is the corresponding processing method. Naming the processing step helps us to grasp the order and control the entire process."
   ]
  },
  {
   "cell_type": "code",
   "execution_count": 38,
   "id": "c688462e",
   "metadata": {
    "id": "jqCf9p9Yib37"
   },
   "outputs": [],
   "source": [
    "from sklearn.compose import ColumnTransformer\n",
    "\n",
    "preprocessor = ColumnTransformer(                                # Applies transformers to columns of an array or pandas DataFrame\n",
    "    transformers=[('num', num_pl, num_names),                    # Applied pipeline for continuous var\n",
    "                  ('cat', cat_pl, cat_names)])                   # Applied pipeline for category var"
   ]
  },
  {
   "cell_type": "markdown",
   "id": "1e33e8f0",
   "metadata": {
    "id": "RhS1_KaOXlqD"
   },
   "source": [
    "Thus, the continuous variables specified in the list `num_names` will apply the pipeline `num_pl` processing, and the categorical variables in the `cate_names` list will use the `cat_pl` pipeline processing."
   ]
  },
  {
   "cell_type": "markdown",
   "id": "3f446ce2",
   "metadata": {
    "id": "3EPFQdU9zuTI"
   },
   "source": [
    "## 2.5. Completed Pipeline (Preprocessing Data + Train Model)"
   ]
  },
  {
   "cell_type": "markdown",
   "id": "e0453e4c",
   "metadata": {},
   "source": [
    "After completing the data preprocessing Pipeline, we can get clean output data. Next, we need to pass the cleaned data through the model for training. Both the data preprocessing and model training steps can be further encapsulated in a Pipeline as follows:"
   ]
  },
  {
   "cell_type": "code",
   "execution_count": 39,
   "id": "c8b79b94",
   "metadata": {
    "colab": {
     "base_uri": "https://localhost:8080/"
    },
    "id": "5Ce1mlViikcQ",
    "outputId": "7246fcf2-b6f8-40c9-a775-325eee83cba3"
   },
   "outputs": [
    {
     "name": "stdout",
     "output_type": "stream",
     "text": [
      "Accuracy on train: 1.00\n",
      "Accuracy on test: 0.77\n"
     ]
    }
   ],
   "source": [
    "from sklearn.ensemble import RandomForestClassifier\n",
    "from sklearn.metrics import accuracy_score\n",
    "\n",
    "# Completed training pipeline\n",
    "completed_pl = Pipeline(\n",
    "    steps=[(\"preprocessor\", preprocessor),                  # Pipeline\n",
    "           (\"classifier\", RandomForestClassifier())])       # Model\n",
    "\n",
    "# Training\n",
    "completed_pl.fit(X_train, y_train)\n",
    "\n",
    "# Accuracy Train\n",
    "y_train_pred = completed_pl.predict(X_train)\n",
    "print(f\"Accuracy on train: {accuracy_score(list(y_train), list(y_train_pred)):.2f}\")\n",
    "# Accuracy Test\n",
    "y_pred = completed_pl.predict(X_test)\n",
    "print(f\"Accuracy on test: {accuracy_score(list(y_test), list(y_pred)):.2f}\")"
   ]
  },
  {
   "cell_type": "markdown",
   "id": "c9d904ad",
   "metadata": {
    "id": "bW62NQEo1Jwb"
   },
   "source": [
    "Thus, we have completed a simple Pipeline for the solvency classification model. The model has an accuracy of 100% on the train and test sets of 77%, showing overfitting. To overcome overfitting, we can perform `cross-validation`."
   ]
  },
  {
   "cell_type": "markdown",
   "id": "8b0fd15a",
   "metadata": {
    "id": "_qmBpuoKjOa4"
   },
   "source": [
    "# 3. Cross validation"
   ]
  },
  {
   "cell_type": "markdown",
   "id": "7b10a237",
   "metadata": {},
   "source": [
    "![](https://scikit-learn.org/stable/_images/grid_search_cross_validation.png)"
   ]
  },
  {
   "cell_type": "markdown",
   "id": "2593ec6f",
   "metadata": {
    "id": "kiZsu-efaBgj"
   },
   "source": [
    "## 3.1. Model Measure"
   ]
  },
  {
   "cell_type": "markdown",
   "id": "f9d52e0f",
   "metadata": {
    "id": "FbpKZWx8fgtV"
   },
   "source": [
    "### 3.1.1. Predict Problem\n",
    "\n",
    "$$\\text{MSE (Mean Squared Error)} = \\frac{1}{n}\\sum_{i=1}^{n} (y_i-\\hat{y}_i)^2$$\n",
    "\n",
    "$$\\text{RMSE (Root Mean Squared Error)} = \\sqrt{\\frac{1}{n}\\sum_{i=1}^{n} (y_i-\\hat{y}_i)^2)}$$\n",
    "\n",
    "$$\\text{MAE (Mean Absolute Error)} = \\frac{1}{n}\\sum_{i=1}^{n} |y_i-\\hat{y}_i|$$\n",
    "\n",
    "$$\\text{MAPE (Mean Absolute Percentage Error)} = \\frac{1}{n}\\sum_{i=1}^{n} |\\frac{y_i-\\hat{y}_i}{y_i}|$$"
   ]
  },
  {
   "cell_type": "markdown",
   "id": "e92f0971",
   "metadata": {
    "id": "B7E8K-aPfZC4"
   },
   "source": [
    "### 3.1.2. Classification Problem\n",
    "\n",
    "For example, a binary classification problem with a cross-tabulation of the results between the actual and the forecast as follows:\n",
    "\n",
    "![](https://phamdinhkhanh.github.io/assets/images/20200813_ModelMetric/pic1.png)\n",
    "\n",
    "Các chỉ số TP, FP, TN, FN lần lượt có ý nghĩa là :\n",
    "\n",
    "* TP (True Positive): Tổng số trường hợp dự báo khớp Positive.\n",
    "* TN (True Negative): Tổng số trường hợp dự báo khớp Negative.\n",
    "* FP (False Positive): Tổng số trường hợp dự báo các quan sát thuộc nhãn Negative thành Positive. Những sai lầm của False Positive tương ứng với sai lầm loại I (_type I error_), chấp nhận một điều sai. Thực tế cho thấy sai lầm loại I thường gây hậu quả nghiêm trọng hơn so với sai lầm loại II được tìm hiểu bên dưới.\n",
    "* FN (False Negative): Tổng số trường hợp dự báo các quan sát thuộc nhãn Positive thành Negative. Trong trường hợp này chúng ta mắc sai lầm loại II (_type II error_), bác bỏ một điều đúng.\n",
    "\n",
    "Đối với bài toán phân loại thì ta quan tâm tới độ chính xác dự báo trên toàn bộ bộ dữ liệu là bao nhiêu? Do đó thước đo phổ biến nhất là `accuracy`. \n",
    "\n",
    "$$\\text{Accuracy} = \\frac{TP+TN}{\\text{total sample}} = \\frac{55+850}{1000} = 90.5 \\%$$\n",
    "\n",
    "**Bài tập: Vì sao trong trường hợp mất cân bằng dữ liệu thì accuracy không còn là thước đo mô hình tốt?**\n",
    "\n",
    "Trong tính huống mô hình bị mất cân bằng thì accuracy không còn là thước đo tốt nên được thay thế bằng `precision, recall`. \n",
    "\n",
    "$$\\text{Precision} = \\frac{TP}{\\text{total predicted positive}} = \\frac{TP}{TP+FP} = \\frac{55}{55+50} = 52.4 \\%$$\n",
    "\n",
    "$$\\text{Recall} = \\frac{TP}{\\text{total actual positive}} = \\frac{TP}{TP+FN} = \\frac{55}{55+45}=55 \\%$$\n",
    "\n",
    "Hai chỉ số này lần lượt giúp đánh giá tỷ lệ dự báo chính xác positive trên tổng số trường hợp được dự báo là positive và tỷ lệ dự báo chính xác positive trên thực tế. Thực sự rất khó để nói lựa chọn `precision` hay `recall` là tốt hơn nên chúng ta dùng `f1-score` là trung bình điều hoà đại diện cho cả precision và recall. Ngoài ra còn một số chỉ số nâng cao hơn cũng được lựa chọn để đánh giá sức mạnh phân loại như `AUC, Gini Index, Cohen's Kappa` tuy nhiên `f1-score` và `accuracy` theo mình nghĩ vẫn là hai chỉ số cơ bản nhất cho bài toán phân loại mà bạn cần nắm vững.\n",
    "\n",
    "$$f_1 = \\frac{2}{\\frac{1}{\\text{precision}} + \\frac{1}{\\text{recall}}}$$\n",
    "\n",
    "$f_{\\beta}$ là trường hợp tổng quát hơn của $f_1$ khi ta coi mức độ quan trọng của `recall` bằng $\\beta$ lần `precision`.\n",
    "\n",
    "![](2021-12-28-15-50-20.png)"
   ]
  },
  {
   "cell_type": "markdown",
   "id": "2930ceb6",
   "metadata": {
    "id": "VwXIDA3xfds2"
   },
   "source": [
    "Bộ dữ liệu [german credit](https://archive.ics.uci.edu/ml/datasets/statlog+(german+credit+data)) có tính chất mất cân bằng nên chúng ta sẽ lựa chọn `f-score` thay cho `accuracy`. Hơn nữa trong mô tả của bộ dữ liệu đã qui định:\n",
    "\n",
    "`It is worse to class a customer as good when they are bad (5), than it is to class a customer as bad when they are good (1).`\n",
    "\n",
    "Tức là một trường hợp `False Negative` có mức độ sai lầm bằng 5 trường hợp `False Positive` nên ta sẽ lựa chọn $\\beta^2=5$."
   ]
  },
  {
   "cell_type": "code",
   "execution_count": 41,
   "id": "c25e35ac",
   "metadata": {
    "id": "TLVsIdT_lC7r"
   },
   "outputs": [],
   "source": [
    "from sklearn.metrics import fbeta_score\n",
    "from sklearn.metrics import make_scorer\n",
    "\n",
    "# Tính fbeta score\n",
    "def fbeta(y_true, y_pred):\n",
    "\treturn fbeta_score(y_true, y_pred, beta=np.sqrt(5))"
   ]
  },
  {
   "cell_type": "markdown",
   "id": "adeb6a4e",
   "metadata": {
    "id": "k24TvElsNBKW"
   },
   "source": [
    "## 3.2. Cross-Validation\n",
    "\n",
    "To perform cross-validation, we use class `RepeatedStratifiedKFold()` where `n_splits` is the number of splits and `n_repeates` is the number of iterations the cross-validation process. Thus we will have a total of `n_splits x n_repeats` data reviews.\n",
    "\n",
    "The function `cross_val_score()` will calculate the model measure on the training passes."
   ]
  },
  {
   "cell_type": "code",
   "execution_count": 42,
   "id": "173d640b",
   "metadata": {
    "colab": {
     "base_uri": "https://localhost:8080/"
    },
    "id": "TfDElAgEjLp0",
    "outputId": "051b9dfb-6ea0-4317-80dd-82a5268395ad"
   },
   "outputs": [
    {
     "name": "stdout",
     "output_type": "stream",
     "text": [
      "Mean Fbeta: 0.890 0.024\n"
     ]
    }
   ],
   "source": [
    "from sklearn.model_selection import cross_val_score, RepeatedStratifiedKFold\n",
    "\n",
    "# Identifying KFold\n",
    "cv = RepeatedStratifiedKFold(n_splits=10, n_repeats=3, random_state=42)\n",
    "\n",
    "# Identifying metric for model\n",
    "metric = make_scorer(fbeta)\n",
    "\n",
    "# Accuracy\n",
    "scores = cross_val_score(completed_pl, X_train, y_train, scoring = metric, cv = cv, n_jobs = -1)\n",
    "print('Mean Fbeta: {:.03f} {:.03f}'.format(np.mean(scores), np.std(scores)))"
   ]
  },
  {
   "cell_type": "markdown",
   "id": "9815d7c6",
   "metadata": {
    "id": "udoiOQSPm4BJ"
   },
   "source": [
    "## 3.3. Accuracy some models "
   ]
  },
  {
   "cell_type": "code",
   "execution_count": 43,
   "id": "5f376ba8",
   "metadata": {
    "id": "McgtJOb8m7VK"
   },
   "outputs": [],
   "source": [
    "from sklearn.ensemble import RandomForestClassifier\n",
    "from sklearn.naive_bayes import GaussianNB\n",
    "from sklearn.linear_model import LogisticRegression\n",
    "from sklearn.neighbors import KNeighborsClassifier\n",
    "from sklearn.neural_network import MLPClassifier\n",
    "# List model chose\n",
    "models = [GaussianNB(), LogisticRegression(), KNeighborsClassifier(), MLPClassifier(), RandomForestClassifier()]\n",
    "\n",
    "# Identifying KFold\n",
    "cv = RepeatedStratifiedKFold(n_splits=10, n_repeats=3, random_state=1)\n",
    "\n",
    "all_scores = []\n",
    "\n",
    "# Accracy\n",
    "for model in models:\n",
    "  completed_pl = Pipeline(\n",
    "    steps=[(\"preprocessor\", preprocessor), \n",
    "    ('classifier', model)])\n",
    "\n",
    "  scores = cross_val_score(completed_pl, X_train, y_train, scoring=metric, cv=cv, n_jobs=-1)\n",
    "  all_scores.append(scores)"
   ]
  },
  {
   "cell_type": "markdown",
   "id": "d1b2845a",
   "metadata": {
    "id": "NRJtbeY2QbIz"
   },
   "source": [
    "### Visualize BoxPlot"
   ]
  },
  {
   "cell_type": "markdown",
   "id": "d9047782",
   "metadata": {},
   "source": [
    "Next, we will plot the score distribution between the models, using a Box Plot chart to help identify outliers and find out the distribution pattern of the data. Specifically, this chart identifies the cutoff thresholds at the 25% percentile (which is the value for which 25% of the observations are less than this value), the median (or the 50% percentile), the 75% percentile, and the 75% percentile. denoted by $Q_1,Q_2,Q_3$ respectively. \n",
    "\n",
    "Based on $IQR$, outliers will be determined if outside the highest and lowest values. \n",
    "\n",
    "![](2021-12-28-16-29-09.png)"
   ]
  },
  {
   "cell_type": "code",
   "execution_count": 99,
   "id": "d30b5b13",
   "metadata": {
    "colab": {
     "base_uri": "https://localhost:8080/",
     "height": 621
    },
    "id": "oofQAvt9q2lu",
    "outputId": "8a1f1bb8-920a-41f1-b41d-7efe789002ca"
   },
   "outputs": [
    {
     "data": {
      "image/png": "[encoded data removed]",
      "text/plain": [
       "<Figure size 432x288 with 1 Axes>"
      ]
     },
     "metadata": {
      "needs_background": "light"
     },
     "output_type": "display_data"
    },
    {
     "data": {
      "image/png": "[encoded data removed]",
      "text/plain": [
       "<Figure size 576x576 with 1 Axes>"
      ]
     },
     "metadata": {
      "needs_background": "light"
     },
     "output_type": "display_data"
    }
   ],
   "source": [
    "import matplotlib.pyplot as plt\n",
    "\n",
    "# Draw boxplot \n",
    "model_names = ['GaussianNB', 'Logistic', 'KNN', 'MLP', 'RandomForest']\n",
    "plt.boxplot(all_scores)\n",
    "\n",
    "# Label\n",
    "plt.figure(figsize=(8, 8))\n",
    "plt.xlabel('Model', fontsize=16)\n",
    "plt.xticks(np.arange(len(model_names))+1, model_names, rotation=45, fontsize=16)\n",
    "plt.ylabel('Score', fontsize=16)\n",
    "plt.title(\"Scores Metrics\", fontsize=18)\n",
    "plt.show();"
   ]
  },
  {
   "cell_type": "markdown",
   "id": "e0eaacfe",
   "metadata": {
    "id": "2RrSgYfqPQuL"
   },
   "source": [
    "Looking at the chart, we can see that `RandomForest` is the algorithm with the highest accuracy when the score fluctuates between 0.83 and 0.95 and the average is about 0.9, so we will choose this model class to develop production."
   ]
  },
  {
   "cell_type": "markdown",
   "id": "b6e28d64",
   "metadata": {
    "id": "nffmkDWSn8wm"
   },
   "source": [
    "# 4. GridSearch"
   ]
  },
  {
   "cell_type": "markdown",
   "id": "87b9a9ca",
   "metadata": {},
   "source": [
    "GridSearch là một kỹ thuật giúp tìm kiếm tham số phù hợp cho mô hình đối với một bộ dữ liệu cụ thể. Trong sklearn chúng ta có thể sử dụng `GridSearchCV` để tạo không gian tham số. Để dễ hình dung hơn về GridSearch chúng ta hãy cùng áp dụng chúng trên bộ dữ liệu `German Credit`.\n",
    "\n",
    "Đầu tiên chúng ta sẽ tạo ra một Class `ClassifierfSwitcher` mà thuộc tính `estimator` của nó là một mô hình trong sklearn. Đây là một tham số có thể search được trên gridsearch."
   ]
  },
  {
   "cell_type": "code",
   "execution_count": 87,
   "id": "9ceb742e",
   "metadata": {
    "id": "UkP9ISKotkh7"
   },
   "outputs": [],
   "source": [
    "from sklearn.base import BaseEstimator\n",
    "class ClassifierSwitcher(BaseEstimator):\n",
    "  def __init__(\n",
    "      self, \n",
    "      estimator = RandomForestClassifier(),\n",
    "  ):\n",
    "      \"\"\"\n",
    "      A Custom BaseEstimator that can switch between classifiers.\n",
    "      :param estimator: sklearn object - The classifier\n",
    "      \"\"\" \n",
    "      \n",
    "      self.estimator = estimator\n",
    "\n",
    "  def fit(self, X, y=None, **kwargs):\n",
    "      self.estimator.fit(X, y)\n",
    "      return self\n",
    "\n",
    "  def predict(self, X, y=None):\n",
    "      return self.estimator.predict(X)\n",
    "\n",
    "  def predict_proba(self, X):\n",
    "      return self.estimator.predict_proba(X)\n",
    "\n",
    "  def score(self, X, y):\n",
    "      return self.estimator.score(X, y)"
   ]
  },
  {
   "cell_type": "markdown",
   "id": "788d846a",
   "metadata": {
    "id": "eO4sDJnwlrTu"
   },
   "source": [
    "Tiếp theo chúng ta sẽ kết hợp giữa hai bước tiền xử lý và huấn luyện để tạo thành một pipeline hoàn chỉnh và thực hiện gridsearch trên pipeline này."
   ]
  },
  {
   "cell_type": "code",
   "execution_count": 88,
   "id": "840ab3c6",
   "metadata": {
    "id": "tT4yCJ0RsDal"
   },
   "outputs": [],
   "source": [
    "from sklearn.model_selection import GridSearchCV\n",
    "pipeline = Pipeline(\n",
    "    steps=[(\"pre\", preprocessor), (\"clf\", ClassifierSwitcher())]\n",
    ")"
   ]
  },
  {
   "cell_type": "markdown",
   "id": "dcd94cee",
   "metadata": {
    "id": "m8nSQh3jmUhC"
   },
   "source": [
    "Pipeline sẽ gồm hai bước là `pre` và `clf`. Chúng ta chỉ cần quan tâm tới việc tìm kiếm trên `clf` thông qua các parameters của class `ClassifierSwitcher` như sau:"
   ]
  },
  {
   "cell_type": "code",
   "execution_count": 89,
   "id": "65f6aaa1",
   "metadata": {
    "id": "3u9mJXB-mTiF"
   },
   "outputs": [],
   "source": [
    "parameters = [\n",
    "    {\n",
    "        'clf__estimator': [LogisticRegression()], # SVM if hinge loss / logreg if log loss\n",
    "        'clf__estimator__penalty': ('l2', 'elasticnet', 'l1'),\n",
    "        'clf__estimator__max_iter': [50, 80],\n",
    "        'clf__estimator__tol': [1e-4]\n",
    "    },\n",
    "    {\n",
    "        'clf__estimator': [RandomForestClassifier()],\n",
    "        'clf__estimator__n_estimators': [50, 100],\n",
    "        'clf__estimator__max_depth': [5, 10],\n",
    "        'clf__estimator__criterion': ('gini', 'entropy')\n",
    "    },\n",
    "]"
   ]
  },
  {
   "cell_type": "markdown",
   "id": "4a7fee52",
   "metadata": {
    "id": "EpF6BUfGnHQH"
   },
   "source": [
    "Giải thích một chút: Bạn không hiểu `clf__estimator__penalty` nghĩa là gì phải không? Bởi vì parameters sẽ được thông dịch trước khi đưa vào gridsearch nên dấu `__` ở trên chính là dấu `.` sau khi thông dịch. Như vậy `clf__estimator__penalty` chính là `clf.estimator.penalty`.\n",
    "\n",
    "Tiếp theo ta sẽ thực hiện grid search trên tập train. Quá trình grid search sẽ thực hiện cross validation với k=5 và kết quả để quyết định mô hình tốt nhất là trung bình trên 5 lượt đánh giá theo hàm fbeta."
   ]
  },
  {
   "cell_type": "code",
   "execution_count": 90,
   "id": "c68c76db",
   "metadata": {
    "colab": {
     "base_uri": "https://localhost:8080/"
    },
    "id": "4YFNa1kXoI4n",
    "outputId": "ca12ec2b-89f4-494d-95bc-6833f34d745f"
   },
   "outputs": [
    {
     "name": "stdout",
     "output_type": "stream",
     "text": [
      "Fitting 5 folds for each of 14 candidates, totalling 70 fits\n"
     ]
    },
    {
     "data": {
      "text/plain": [
       "GridSearchCV(cv=5, error_score=0,\n",
       "             estimator=Pipeline(steps=[('pre',\n",
       "                                        ColumnTransformer(transformers=[('num',\n",
       "                                                                         Pipeline(steps=[('imputer',\n",
       "                                                                                          KNNImputer(n_neighbors=7)),\n",
       "                                                                                         ('scaler',\n",
       "                                                                                          MinMaxScaler())]),\n",
       "                                                                         ['DuMon',\n",
       "                                                                          'CredAmt',\n",
       "                                                                          'InsRt',\n",
       "                                                                          'PreRe',\n",
       "                                                                          'Age',\n",
       "                                                                          'ExstCredit',\n",
       "                                                                          'NoMain']),\n",
       "                                                                        ('cat',\n",
       "                                                                         Pipeline(steps=[('imputer',\n",
       "                                                                                          SimpleImputer(strategy='most_frequent')),\n",
       "                                                                                         ('onehot',\n",
       "                                                                                          OneHotEncoder(...\n",
       "                          'clf__estimator__penalty': ('l2', 'elasticnet', 'l1'),\n",
       "                          'clf__estimator__tol': [0.0001]},\n",
       "                         {'clf__estimator': [RandomForestClassifier(criterion='entropy',\n",
       "                                                                    max_depth=5,\n",
       "                                                                    n_estimators=50)],\n",
       "                          'clf__estimator__criterion': ('gini', 'entropy'),\n",
       "                          'clf__estimator__max_depth': [5, 10],\n",
       "                          'clf__estimator__n_estimators': [50, 100]}],\n",
       "             return_train_score=True, scoring=make_scorer(fbeta), verbose=3)"
      ]
     },
     "execution_count": 90,
     "metadata": {},
     "output_type": "execute_result"
    }
   ],
   "source": [
    "metric = make_scorer(fbeta)\n",
    "gscv = GridSearchCV(pipeline, parameters, cv=5, n_jobs=12, scoring=metric, return_train_score=True, error_score=0, verbose=3)\n",
    "gscv.fit(X_train, y_train)"
   ]
  },
  {
   "cell_type": "markdown",
   "id": "06cff08c",
   "metadata": {
    "id": "yfOz7FH-QpJn"
   },
   "source": [
    "Để tìm ra mô hình tốt nhất từ `grid search` ta sử dụng `gscv.best_estimator_`."
   ]
  },
  {
   "cell_type": "code",
   "execution_count": 91,
   "id": "787fd735",
   "metadata": {
    "colab": {
     "base_uri": "https://localhost:8080/"
    },
    "id": "jHPaYRFbx9Ie",
    "outputId": "93c6ef65-3c98-4022-a592-91cca6c3f07d"
   },
   "outputs": [
    {
     "data": {
      "text/plain": [
       "Pipeline(steps=[('pre',\n",
       "                 ColumnTransformer(transformers=[('num',\n",
       "                                                  Pipeline(steps=[('imputer',\n",
       "                                                                   KNNImputer(n_neighbors=7)),\n",
       "                                                                  ('scaler',\n",
       "                                                                   MinMaxScaler())]),\n",
       "                                                  ['DuMon', 'CredAmt', 'InsRt',\n",
       "                                                   'PreRe', 'Age', 'ExstCredit',\n",
       "                                                   'NoMain']),\n",
       "                                                 ('cat',\n",
       "                                                  Pipeline(steps=[('imputer',\n",
       "                                                                   SimpleImputer(strategy='most_frequent')),\n",
       "                                                                  ('onehot',\n",
       "                                                                   OneHotEncoder())]),\n",
       "                                                  ['StaAcc', 'CredHis',\n",
       "                                                   'Purpose', 'SavAcc',\n",
       "                                                   'PreEmpl', 'PerSta',\n",
       "                                                   'OthDebtor', 'Property',\n",
       "                                                   'IntPla', 'Housing', 'Job',\n",
       "                                                   'Phone', 'ForWorker'])])),\n",
       "                ('clf',\n",
       "                 ClassifierSwitcher(estimator=RandomForestClassifier(criterion='entropy',\n",
       "                                                                     max_depth=5,\n",
       "                                                                     n_estimators=50)))])"
      ]
     },
     "execution_count": 91,
     "metadata": {},
     "output_type": "execute_result"
    }
   ],
   "source": [
    "gscv.best_estimator_"
   ]
  },
  {
   "cell_type": "markdown",
   "id": "b867289b",
   "metadata": {
    "id": "YZUnzJGxsWAO"
   },
   "source": [
    "Các tham số tốt nhất."
   ]
  },
  {
   "cell_type": "code",
   "execution_count": 92,
   "id": "e8cf0f86",
   "metadata": {
    "colab": {
     "base_uri": "https://localhost:8080/"
    },
    "id": "6h88ogQMr7Hu",
    "outputId": "5fe425ce-80c5-48cb-d750-abf3b8a3ebee"
   },
   "outputs": [
    {
     "data": {
      "text/plain": [
       "{'clf__estimator': RandomForestClassifier(criterion='entropy', max_depth=5, n_estimators=50),\n",
       " 'clf__estimator__criterion': 'entropy',\n",
       " 'clf__estimator__max_depth': 5,\n",
       " 'clf__estimator__n_estimators': 50}"
      ]
     },
     "execution_count": 92,
     "metadata": {},
     "output_type": "execute_result"
    }
   ],
   "source": [
    "gscv.best_params_"
   ]
  },
  {
   "cell_type": "markdown",
   "id": "94f503eb",
   "metadata": {
    "id": "1eOUEFGqsYRy"
   },
   "source": [
    "Điểm số cao nhất."
   ]
  },
  {
   "cell_type": "code",
   "execution_count": 94,
   "id": "ea8b4e08",
   "metadata": {
    "colab": {
     "base_uri": "https://localhost:8080/"
    },
    "id": "lzE1bxLZrumt",
    "outputId": "91c53faa-ff83-4071-8e18-87e24f365104"
   },
   "outputs": [
    {
     "data": {
      "text/plain": [
       "0.9235913518935795"
      ]
     },
     "execution_count": 94,
     "metadata": {},
     "output_type": "execute_result"
    }
   ],
   "source": [
    "gscv.best_score_"
   ]
  },
  {
   "cell_type": "markdown",
   "id": "9e0aaeff",
   "metadata": {
    "id": "SXymcFDouir5"
   },
   "source": [
    "# 5. Exercise"
   ]
  },
  {
   "cell_type": "markdown",
   "id": "cc0a5302",
   "metadata": {},
   "source": [
    "* [Siabetes](https://archive.ics.uci.edu/ml/datasets/diabetes) about diagnosing diabetes.\n",
    "* [HMEQ](https://www.kaggle.com/ajay1735/hmeq-data) about the classification of home loan documents.\n",
    "* [Bonston Housing](https://github.com/phamdinhkhanh/datasets/blob/master/BostonHousing.csv) about predict Bonston home price.\n",
    "* [Churn Customer](https://archive.ics.uci.edu/ml/datasets/Iranian+Churn+Dataset) about churn customer.\n",
    "\n",
    "Bạn hãy thực hiện các bài tập sau: \n",
    "\n",
    "1. Thống kê mô tả và vẽ biểu đồ phân phối trên các trường của tập dữ liệu này. Đánh giá sơ bộ về tính chất phân phối của các biến.\n",
    "\n",
    "2. Hãy tạo thành một pipeline hoàn chỉnh để xử lý dữ liệu từ thô sang tinh.\n",
    "\n",
    "3. Phân chia tập train/test và lựa chọn metric cho bài toán.\n",
    "\n",
    "4. Lựa chọn một lớp mô hình phù hợp, thực hiện cross validation để huấn luyện và đánh giá mô hình đó trên tập train.\n",
    "\n",
    "5. Triển khai lại quá trình ở bài 4 trên nhiều lớp mô hình khác nhau.\n",
    "\n",
    "6. Vẽ biểu đồ thể hiện kết quả của các mô hình và Kết luận đâu là mô hình tốt nhất. \n",
    "\n",
    "7. Dựa vào lớp mô hình tốt nhất được lựa chọn, thực hiện grid search trên không gian tham số của nó."
   ]
  }
 ],
 "metadata": {
  "jupytext": {
   "text_representation": {
    "extension": ".md",
    "format_name": "myst",
    "format_version": 0.12,
    "jupytext_version": "1.8.2"
   }
  },
  "kernelspec": {
   "display_name": "Python 3",
   "name": "python3"
  },
  "language_info": {
   "codemirror_mode": {
    "name": "ipython",
    "version": 3
   },
   "file_extension": ".py",
   "mimetype": "text/x-python",
   "name": "python",
   "nbconvert_exporter": "python",
   "pygments_lexer": "ipython3",
   "version": "3.8.8"
  },
  "source_map": [
   11,
   15,
   20,
   53,
   57,
   87,
   105,
   109,
   119,
   125,
   136,
   140,
   150,
   194,
   198,
   202,
   237,
   241,
   262,
   282,
   286,
   298,
   304,
   312,
   325,
   337,
   343,
   355,
   359,
   365,
   391,
   395,
   406,
   419,
   440,
   479,
   488,
   500,
   508,
   526,
   532,
   556,
   560,
   580,
   584,
   592,
   626,
   630,
   639,
   643,
   662,
   668,
   680,
   684,
   694,
   698,
   708,
   712,
   722,
   732,
   760
  ]
 },
 "nbformat": 4,
 "nbformat_minor": 5
}
